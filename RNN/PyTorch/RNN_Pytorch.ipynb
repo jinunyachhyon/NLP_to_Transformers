{
  "nbformat": 4,
  "nbformat_minor": 0,
  "metadata": {
    "colab": {
      "provenance": [],
      "toc_visible": true,
      "gpuType": "T4"
    },
    "kernelspec": {
      "name": "python3",
      "display_name": "Python 3"
    },
    "language_info": {
      "name": "python"
    },
    "accelerator": "GPU"
  },
  "cells": [
    {
      "cell_type": "code",
      "source": [
        "from google.colab import drive\n",
        "drive.mount('/content/drive')"
      ],
      "metadata": {
        "colab": {
          "base_uri": "https://localhost:8080/"
        },
        "id": "3bIrbIhNO5fB",
        "outputId": "468dbd32-e939-4a0a-f76d-7dae643293fc"
      },
      "execution_count": 1,
      "outputs": [
        {
          "output_type": "stream",
          "name": "stdout",
          "text": [
            "Mounted at /content/drive\n"
          ]
        }
      ]
    },
    {
      "cell_type": "code",
      "source": [
        "import nltk\n",
        "import numpy as np\n",
        "import requests"
      ],
      "metadata": {
        "id": "kNHXGoNUx5Z_"
      },
      "execution_count": 2,
      "outputs": []
    },
    {
      "cell_type": "code",
      "source": [
        "from nltk.corpus import treebank, brown, conll2000\n",
        "from sklearn.model_selection import train_test_split"
      ],
      "metadata": {
        "id": "96HsnxNGx8Cg"
      },
      "execution_count": 3,
      "outputs": []
    },
    {
      "cell_type": "code",
      "source": [
        "import torch\n",
        "import torch.nn as nn\n",
        "import torch.optim as optim\n",
        "from torch.utils.data import DataLoader, TensorDataset, Dataset"
      ],
      "metadata": {
        "id": "8Gezw3tjyA2H"
      },
      "execution_count": 4,
      "outputs": []
    },
    {
      "cell_type": "code",
      "source": [
        "from tensorflow import keras"
      ],
      "metadata": {
        "id": "N8LjwcKpeX5F"
      },
      "execution_count": 5,
      "outputs": []
    },
    {
      "cell_type": "code",
      "source": [
        "from tqdm import tqdm"
      ],
      "metadata": {
        "id": "6N4QLi5jvBg4"
      },
      "execution_count": 6,
      "outputs": []
    },
    {
      "cell_type": "markdown",
      "source": [
        "# Part-of-Speech Tagging with a Bidirectional LSTM"
      ],
      "metadata": {
        "id": "PVbpx-8_tSrD"
      }
    },
    {
      "cell_type": "code",
      "execution_count": 7,
      "metadata": {
        "id": "TawHhQnsENGX",
        "colab": {
          "base_uri": "https://localhost:8080/"
        },
        "outputId": "c78fb5d2-7bf3-4787-833b-17d5799b253a"
      },
      "outputs": [
        {
          "output_type": "stream",
          "name": "stderr",
          "text": [
            "[nltk_data] Downloading package treebank to /root/nltk_data...\n",
            "[nltk_data]   Unzipping corpora/treebank.zip.\n",
            "[nltk_data] Downloading package brown to /root/nltk_data...\n",
            "[nltk_data]   Unzipping corpora/brown.zip.\n",
            "[nltk_data] Downloading package conll2000 to /root/nltk_data...\n",
            "[nltk_data]   Unzipping corpora/conll2000.zip.\n"
          ]
        },
        {
          "output_type": "execute_result",
          "data": {
            "text/plain": [
              "True"
            ]
          },
          "metadata": {},
          "execution_count": 7
        }
      ],
      "source": [
        "nltk.download('treebank')\n",
        "nltk.download('brown')\n",
        "nltk.download('conll2000')"
      ]
    },
    {
      "cell_type": "code",
      "source": [
        "nltk.download('universal_tagset')"
      ],
      "metadata": {
        "id": "3Ska6B_5vs0s",
        "colab": {
          "base_uri": "https://localhost:8080/"
        },
        "outputId": "9159a2cd-5727-4e4f-e2e6-b074ace3025e"
      },
      "execution_count": 8,
      "outputs": [
        {
          "output_type": "stream",
          "name": "stderr",
          "text": [
            "[nltk_data] Downloading package universal_tagset to /root/nltk_data...\n",
            "[nltk_data]   Unzipping taggers/universal_tagset.zip.\n"
          ]
        },
        {
          "output_type": "execute_result",
          "data": {
            "text/plain": [
              "True"
            ]
          },
          "metadata": {},
          "execution_count": 8
        }
      ]
    },
    {
      "cell_type": "code",
      "source": [
        "# Download all PoS-tagged sentences and place them in one list.\n",
        "tagged_sentences = treebank.tagged_sents(tagset='universal') +\\\n",
        "                   brown.tagged_sents(tagset='universal') +\\\n",
        "                   conll2000.tagged_sents(tagset='universal')\n",
        "\n",
        "print(tagged_sentences[0])\n",
        "print(f\"Dataset size: {len(tagged_sentences)}\")"
      ],
      "metadata": {
        "id": "srteMIhDEbRS",
        "colab": {
          "base_uri": "https://localhost:8080/"
        },
        "outputId": "614e3dab-5c61-4a02-8cee-27be8d91dd36"
      },
      "execution_count": 9,
      "outputs": [
        {
          "output_type": "stream",
          "name": "stdout",
          "text": [
            "[('Pierre', 'NOUN'), ('Vinken', 'NOUN'), (',', '.'), ('61', 'NUM'), ('years', 'NOUN'), ('old', 'ADJ'), (',', '.'), ('will', 'VERB'), ('join', 'VERB'), ('the', 'DET'), ('board', 'NOUN'), ('as', 'ADP'), ('a', 'DET'), ('nonexecutive', 'ADJ'), ('director', 'NOUN'), ('Nov.', 'NOUN'), ('29', 'NUM'), ('.', '.')]\n",
            "Dataset size: 72202\n"
          ]
        }
      ]
    },
    {
      "cell_type": "code",
      "source": [
        "sentences, sentence_tags = [], []\n",
        "\n",
        "for s in tagged_sentences:\n",
        "  sentence, tags = zip(*s)\n",
        "  sentences.append(list(sentence))\n",
        "  sentence_tags.append(list(tags))"
      ],
      "metadata": {
        "id": "L7unpKPbNOUE"
      },
      "execution_count": 10,
      "outputs": []
    },
    {
      "cell_type": "markdown",
      "source": [
        "The sentences and their respective tags are now in separate lists."
      ],
      "metadata": {
        "id": "pzK70wbrH71p"
      }
    },
    {
      "cell_type": "code",
      "source": [
        "print(sentences[0])\n",
        "print(sentence_tags[0])"
      ],
      "metadata": {
        "id": "2Im5-zeiE1jk",
        "colab": {
          "base_uri": "https://localhost:8080/"
        },
        "outputId": "3a686309-4e19-4af6-deb4-8a23fa63ff0d"
      },
      "execution_count": 11,
      "outputs": [
        {
          "output_type": "stream",
          "name": "stdout",
          "text": [
            "['Pierre', 'Vinken', ',', '61', 'years', 'old', ',', 'will', 'join', 'the', 'board', 'as', 'a', 'nonexecutive', 'director', 'Nov.', '29', '.']\n",
            "['NOUN', 'NOUN', '.', 'NUM', 'NOUN', 'ADJ', '.', 'VERB', 'VERB', 'DET', 'NOUN', 'ADP', 'DET', 'ADJ', 'NOUN', 'NOUN', 'NUM', '.']\n"
          ]
        }
      ]
    },
    {
      "cell_type": "code",
      "source": [
        "print(len(sentences), len(sentence_tags))"
      ],
      "metadata": {
        "id": "fyYJQufRi_4l",
        "colab": {
          "base_uri": "https://localhost:8080/"
        },
        "outputId": "3d1344ea-5729-42f8-cd54-04867d849ca2"
      },
      "execution_count": 12,
      "outputs": [
        {
          "output_type": "stream",
          "name": "stdout",
          "text": [
            "72202 72202\n"
          ]
        }
      ]
    },
    {
      "cell_type": "code",
      "source": [
        "train_ratio = 0.75\n",
        "validation_ratio = 0.15\n",
        "test_ratio = 0.10\n",
        "\n",
        "x_train, x_test, y_train, y_test = train_test_split(sentences, sentence_tags,\n",
        "                                                    test_size=1 - train_ratio,\n",
        "                                                    random_state=1)\n",
        "\n",
        "x_val, x_test, y_val, y_test = train_test_split(x_test, y_test,\n",
        "                                                test_size=test_ratio/(test_ratio + validation_ratio),\n",
        "                                                random_state=1)"
      ],
      "metadata": {
        "id": "Dqmencun067o"
      },
      "execution_count": 13,
      "outputs": []
    },
    {
      "cell_type": "code",
      "source": [
        "print(len(x_train), len(y_train))\n",
        "print(len(x_val), len(y_val))\n",
        "print(len(x_test), len(y_test))"
      ],
      "metadata": {
        "id": "dRPQyAgfR5sm",
        "colab": {
          "base_uri": "https://localhost:8080/"
        },
        "outputId": "3cb77ecf-8043-43a9-ddfd-b08dfc7cd17d"
      },
      "execution_count": 14,
      "outputs": [
        {
          "output_type": "stream",
          "name": "stdout",
          "text": [
            "54151 54151\n",
            "10830 10830\n",
            "7221 7221\n"
          ]
        }
      ]
    },
    {
      "cell_type": "code",
      "source": [
        "sentence_tokenizer = keras.preprocessing.text.Tokenizer(oov_token='<OOV>')"
      ],
      "metadata": {
        "id": "CV1gT-GmOOI9"
      },
      "execution_count": 15,
      "outputs": []
    },
    {
      "cell_type": "code",
      "source": [
        "sentence_tokenizer.fit_on_texts(x_train)"
      ],
      "metadata": {
        "id": "XMmMUDogOPoe"
      },
      "execution_count": 16,
      "outputs": []
    },
    {
      "cell_type": "code",
      "source": [
        "print(f\"Vocabulary size: {len(sentence_tokenizer.word_index)}\")"
      ],
      "metadata": {
        "id": "ziy90iSwORAX",
        "colab": {
          "base_uri": "https://localhost:8080/"
        },
        "outputId": "93e0537c-2b4c-4f1e-ff7c-7f4acc09fe5d"
      },
      "execution_count": 17,
      "outputs": [
        {
          "output_type": "stream",
          "name": "stdout",
          "text": [
            "Vocabulary size: 52041\n"
          ]
        }
      ]
    },
    {
      "cell_type": "code",
      "source": [
        "tag_tokenizer = keras.preprocessing.text.Tokenizer(oov_token='<OOV>')\n",
        "tag_tokenizer.fit_on_texts(y_train)"
      ],
      "metadata": {
        "id": "3H571o7bOSQ2"
      },
      "execution_count": 18,
      "outputs": []
    },
    {
      "cell_type": "code",
      "source": [
        "print(f\"Number of PoS tags: {len(tag_tokenizer.word_index)}\\n\")\n",
        "tag_tokenizer.get_config()"
      ],
      "metadata": {
        "id": "9fDtT7_YOhoA",
        "colab": {
          "base_uri": "https://localhost:8080/"
        },
        "outputId": "ce019cf8-f628-45f1-f385-b3c55f55ba3c"
      },
      "execution_count": 19,
      "outputs": [
        {
          "output_type": "stream",
          "name": "stdout",
          "text": [
            "Number of PoS tags: 13\n",
            "\n"
          ]
        },
        {
          "output_type": "execute_result",
          "data": {
            "text/plain": [
              "{'num_words': None,\n",
              " 'filters': '!\"#$%&()*+,-./:;<=>?@[\\\\]^_`{|}~\\t\\n',\n",
              " 'lower': True,\n",
              " 'split': ' ',\n",
              " 'char_level': False,\n",
              " 'oov_token': '<OOV>',\n",
              " 'document_count': 54151,\n",
              " 'word_counts': '{\"det\": 126968, \"verb\": 174593, \"adj\": 80523, \"adp\": 136453, \"noun\": 286676, \"adv\": 51205, \".\": 142935, \"pron\": 44684, \"conj\": 35060, \"num\": 21461, \"prt\": 31229, \"x\": 6090}',\n",
              " 'word_docs': '{\"verb\": 50837, \"noun\": 51171, \"adv\": 29531, \"adj\": 36344, \".\": 53332, \"det\": 44747, \"adp\": 43855, \"conj\": 24383, \"pron\": 26965, \"num\": 11964, \"prt\": 21777, \"x\": 2682}',\n",
              " 'index_docs': '{\"3\": 50837, \"2\": 51171, \"8\": 29531, \"7\": 36344, \"4\": 53332, \"6\": 44747, \"5\": 43855, \"10\": 24383, \"9\": 26965, \"12\": 11964, \"11\": 21777, \"13\": 2682}',\n",
              " 'index_word': '{\"1\": \"<OOV>\", \"2\": \"noun\", \"3\": \"verb\", \"4\": \".\", \"5\": \"adp\", \"6\": \"det\", \"7\": \"adj\", \"8\": \"adv\", \"9\": \"pron\", \"10\": \"conj\", \"11\": \"prt\", \"12\": \"num\", \"13\": \"x\"}',\n",
              " 'word_index': '{\"<OOV>\": 1, \"noun\": 2, \"verb\": 3, \".\": 4, \"adp\": 5, \"det\": 6, \"adj\": 7, \"adv\": 8, \"pron\": 9, \"conj\": 10, \"prt\": 11, \"num\": 12, \"x\": 13}'}"
            ]
          },
          "metadata": {},
          "execution_count": 19
        }
      ]
    },
    {
      "cell_type": "code",
      "source": [
        "# The set of universal PoS tags.\n",
        "tag_tokenizer.word_index"
      ],
      "metadata": {
        "id": "YJrIrOwzyddJ",
        "colab": {
          "base_uri": "https://localhost:8080/"
        },
        "outputId": "999d8e8f-2328-4cce-be1e-6538f539c253"
      },
      "execution_count": 20,
      "outputs": [
        {
          "output_type": "execute_result",
          "data": {
            "text/plain": [
              "{'<OOV>': 1,\n",
              " 'noun': 2,\n",
              " 'verb': 3,\n",
              " '.': 4,\n",
              " 'adp': 5,\n",
              " 'det': 6,\n",
              " 'adj': 7,\n",
              " 'adv': 8,\n",
              " 'pron': 9,\n",
              " 'conj': 10,\n",
              " 'prt': 11,\n",
              " 'num': 12,\n",
              " 'x': 13}"
            ]
          },
          "metadata": {},
          "execution_count": 20
        }
      ]
    },
    {
      "cell_type": "code",
      "source": [
        "x_train_seqs = sentence_tokenizer.texts_to_sequences(x_train)"
      ],
      "metadata": {
        "id": "Khb0e73Uy9F2"
      },
      "execution_count": 21,
      "outputs": []
    },
    {
      "cell_type": "code",
      "source": [
        "print(x_train_seqs[0])"
      ],
      "metadata": {
        "id": "3A5T7HDlPG04",
        "colab": {
          "base_uri": "https://localhost:8080/"
        },
        "outputId": "eaf55f57-6dba-4f6d-95eb-93efae93e137"
      },
      "execution_count": 22,
      "outputs": [
        {
          "output_type": "stream",
          "name": "stdout",
          "text": [
            "[27, 86, 21, 479, 7, 2, 920, 10903, 20547, 3327, 5644, 337, 4]\n"
          ]
        }
      ]
    },
    {
      "cell_type": "code",
      "source": [
        "print(f\"Original: {x_train[0]}\")\n",
        "print(f\"Reconstructed: {sentence_tokenizer.sequences_to_texts([x_train_seqs[0]])}\")"
      ],
      "metadata": {
        "id": "Io3WhTXPPcBY",
        "colab": {
          "base_uri": "https://localhost:8080/"
        },
        "outputId": "5e2d8a85-90af-4a72-9187-36c1f43376e3"
      },
      "execution_count": 23,
      "outputs": [
        {
          "output_type": "stream",
          "name": "stdout",
          "text": [
            "Original: ['This', 'may', 'be', 'due', 'to', 'the', 'heavy', 'interlobular', 'connective', 'tissue', 'barriers', 'present', '.']\n",
            "Reconstructed: ['this may be due to the heavy interlobular connective tissue barriers present .']\n"
          ]
        }
      ]
    },
    {
      "cell_type": "markdown",
      "source": [
        "Next, we'll vectorize the labels (i.e. sequences of PoS tags) using its respective tokenizer."
      ],
      "metadata": {
        "id": "IrTae0CTLbzs"
      }
    },
    {
      "cell_type": "code",
      "source": [
        "y_train_seqs = tag_tokenizer.texts_to_sequences(y_train)"
      ],
      "metadata": {
        "id": "px0r8Z8cPhqS"
      },
      "execution_count": 24,
      "outputs": []
    },
    {
      "cell_type": "code",
      "source": [
        "y_train_seqs[0]"
      ],
      "metadata": {
        "colab": {
          "base_uri": "https://localhost:8080/"
        },
        "id": "l1U69L13qpQf",
        "outputId": "955d2ec6-1045-40a8-e420-2af57c57b6e6"
      },
      "execution_count": 25,
      "outputs": [
        {
          "output_type": "execute_result",
          "data": {
            "text/plain": [
              "[6, 3, 3, 7, 5, 6, 7, 7, 7, 2, 2, 8, 4]"
            ]
          },
          "metadata": {},
          "execution_count": 25
        }
      ]
    },
    {
      "cell_type": "code",
      "source": [
        "tag_tokenizer.sequences_to_texts([y_train_seqs[0]])"
      ],
      "metadata": {
        "id": "Qzz8TCP6y6LM",
        "colab": {
          "base_uri": "https://localhost:8080/"
        },
        "outputId": "0b020d01-d8c3-4ab3-f9ca-efbaa436d3bf"
      },
      "execution_count": 26,
      "outputs": [
        {
          "output_type": "execute_result",
          "data": {
            "text/plain": [
              "['det verb verb adj adp det adj adj adj noun noun adv .']"
            ]
          },
          "metadata": {},
          "execution_count": 26
        }
      ]
    },
    {
      "cell_type": "markdown",
      "source": [
        "Finally, we'll do the same with the validation inputs and labels."
      ],
      "metadata": {
        "id": "tzMIDKL2Lov7"
      }
    },
    {
      "cell_type": "code",
      "source": [
        "x_val_seqs = sentence_tokenizer.texts_to_sequences(x_val)\n",
        "y_val_seqs = tag_tokenizer.texts_to_sequences(y_val)"
      ],
      "metadata": {
        "id": "sZKg10BX5O-N"
      },
      "execution_count": 27,
      "outputs": []
    },
    {
      "cell_type": "code",
      "source": [
        "MAX_LENGTH = len(max(x_train_seqs, key=len))\n",
        "print(f\"Length of longest input sequence: {MAX_LENGTH}\")"
      ],
      "metadata": {
        "id": "rYLLph5iPng5",
        "colab": {
          "base_uri": "https://localhost:8080/"
        },
        "outputId": "a5074493-26ae-4469-8b5d-351b056e7690"
      },
      "execution_count": 28,
      "outputs": [
        {
          "output_type": "stream",
          "name": "stdout",
          "text": [
            "Length of longest input sequence: 161\n"
          ]
        }
      ]
    },
    {
      "cell_type": "code",
      "source": [
        "x_train_padded = keras.preprocessing.sequence.pad_sequences(x_train_seqs, padding='post',\n",
        "                                                            maxlen=MAX_LENGTH)"
      ],
      "metadata": {
        "id": "B2F9536qPpbI"
      },
      "execution_count": 29,
      "outputs": []
    },
    {
      "cell_type": "code",
      "source": [
        "print(x_train_padded[0])"
      ],
      "metadata": {
        "id": "-BKa6RNLPy1J",
        "colab": {
          "base_uri": "https://localhost:8080/"
        },
        "outputId": "e8fab92b-c920-4290-b7f2-b572f98c2934"
      },
      "execution_count": 30,
      "outputs": [
        {
          "output_type": "stream",
          "name": "stdout",
          "text": [
            "[   27    86    21   479     7     2   920 10903 20547  3327  5644   337\n",
            "     4     0     0     0     0     0     0     0     0     0     0     0\n",
            "     0     0     0     0     0     0     0     0     0     0     0     0\n",
            "     0     0     0     0     0     0     0     0     0     0     0     0\n",
            "     0     0     0     0     0     0     0     0     0     0     0     0\n",
            "     0     0     0     0     0     0     0     0     0     0     0     0\n",
            "     0     0     0     0     0     0     0     0     0     0     0     0\n",
            "     0     0     0     0     0     0     0     0     0     0     0     0\n",
            "     0     0     0     0     0     0     0     0     0     0     0     0\n",
            "     0     0     0     0     0     0     0     0     0     0     0     0\n",
            "     0     0     0     0     0     0     0     0     0     0     0     0\n",
            "     0     0     0     0     0     0     0     0     0     0     0     0\n",
            "     0     0     0     0     0     0     0     0     0     0     0     0\n",
            "     0     0     0     0     0]\n"
          ]
        }
      ]
    },
    {
      "cell_type": "markdown",
      "source": [
        "We'll do the same with the training label (PoS sequences)..."
      ],
      "metadata": {
        "id": "XpbsTGrgRGNR"
      }
    },
    {
      "cell_type": "code",
      "source": [
        "y_train_padded = keras.preprocessing.sequence.pad_sequences(y_train_seqs, padding='post',\n",
        "                                                            maxlen=MAX_LENGTH)"
      ],
      "metadata": {
        "id": "QUAzwpTgsd4B"
      },
      "execution_count": 31,
      "outputs": []
    },
    {
      "cell_type": "markdown",
      "source": [
        "...and the validation dataset."
      ],
      "metadata": {
        "id": "R4bOcVgLRK4b"
      }
    },
    {
      "cell_type": "code",
      "source": [
        "x_val_padded = keras.preprocessing.sequence.pad_sequences(x_val_seqs, padding='post', maxlen=MAX_LENGTH)\n",
        "y_val_padded = keras.preprocessing.sequence.pad_sequences(y_val_seqs, padding='post', maxlen=MAX_LENGTH)"
      ],
      "metadata": {
        "id": "OCtKDmLK5uq4"
      },
      "execution_count": 32,
      "outputs": []
    },
    {
      "cell_type": "code",
      "source": [
        "# Convert to PyTorch tensors\n",
        "x_train_padded = torch.tensor(x_train_padded, dtype=torch.long)\n",
        "y_train_padded = torch.tensor(y_train_padded, dtype=torch.long)\n",
        "\n",
        "x_val_padded = torch.tensor(x_val_padded, dtype=torch.long)\n",
        "y_val_padded = torch.tensor(y_val_padded, dtype=torch.long)"
      ],
      "metadata": {
        "id": "mMKs7QA8jXoX"
      },
      "execution_count": 33,
      "outputs": []
    },
    {
      "cell_type": "code",
      "source": [
        "class TextPosDataset(Dataset):\n",
        "    def __init__(self, texts, pos_tags):\n",
        "        self.texts = texts\n",
        "        self.pos_tags = pos_tags\n",
        "\n",
        "    def __len__(self):\n",
        "        return len(self.texts)\n",
        "\n",
        "    def __getitem__(self, idx):\n",
        "        return self.texts[idx], self.pos_tags[idx]"
      ],
      "metadata": {
        "id": "0qhLGACKtE_M"
      },
      "execution_count": 34,
      "outputs": []
    },
    {
      "cell_type": "code",
      "source": [
        "# Create Dataset\n",
        "train_dataset = TextPosDataset(x_train_padded, y_train_padded)\n",
        "val_dataset = TextPosDataset(x_val_padded, y_val_padded)"
      ],
      "metadata": {
        "id": "03Z4w9o4kXVz"
      },
      "execution_count": 35,
      "outputs": []
    },
    {
      "cell_type": "code",
      "source": [
        "# Create DataLoader\n",
        "train_loader = DataLoader(train_dataset, batch_size=256, shuffle=True)\n",
        "val_loader = DataLoader(val_dataset, batch_size=256, shuffle=False)"
      ],
      "metadata": {
        "id": "oBFLck1Wkdjd"
      },
      "execution_count": 36,
      "outputs": []
    },
    {
      "cell_type": "code",
      "source": [
        "# For the embedding layer. \"+ 1\" to account for the padding token.\n",
        "num_tokens = len(sentence_tokenizer.word_index) + 1\n",
        "embedding_dim = 128\n",
        "hidden_dim = 128\n",
        "\n",
        "# For the output layer. The number of classes corresponds to the\n",
        "# number of possible tags.\n",
        "num_classes = len(tag_tokenizer.word_index) + 1"
      ],
      "metadata": {
        "id": "96PD9ncGQqO7"
      },
      "execution_count": 37,
      "outputs": []
    },
    {
      "cell_type": "code",
      "source": [
        "# Set random seeds for reproducibility\n",
        "torch.manual_seed(0)\n",
        "np.random.seed(0)"
      ],
      "metadata": {
        "id": "0R-s0tcRi-oZ"
      },
      "execution_count": 38,
      "outputs": []
    },
    {
      "cell_type": "code",
      "source": [
        "class BidirectionalLSTMModel(nn.Module):\n",
        "    def __init__(self, num_tokens, embedding_dim, hidden_dim, num_classes):\n",
        "        super(BidirectionalLSTMModel, self).__init__()\n",
        "        self.embedding = nn.Embedding(num_tokens, embedding_dim, padding_idx=0)\n",
        "        self.lstm = nn.LSTM(embedding_dim, hidden_dim, bidirectional=True, batch_first=True)\n",
        "        self.fc = nn.Linear(hidden_dim * 2, num_classes)\n",
        "\n",
        "    def forward(self, x):\n",
        "        x = self.embedding(x)\n",
        "        x, _ = self.lstm(x)\n",
        "        x = self.fc(x)\n",
        "        return x\n",
        "\n",
        "# Instantiate the model\n",
        "model = BidirectionalLSTMModel(num_tokens, embedding_dim, hidden_dim, num_classes)\n"
      ],
      "metadata": {
        "id": "btJjvXPl1oX8"
      },
      "execution_count": 39,
      "outputs": []
    },
    {
      "cell_type": "code",
      "source": [
        "model"
      ],
      "metadata": {
        "colab": {
          "base_uri": "https://localhost:8080/"
        },
        "id": "A7KaV1oy3TFT",
        "outputId": "7fcf1cf5-65d7-4b0a-89f2-8eb7a76b5737"
      },
      "execution_count": 40,
      "outputs": [
        {
          "output_type": "execute_result",
          "data": {
            "text/plain": [
              "BidirectionalLSTMModel(\n",
              "  (embedding): Embedding(52042, 128, padding_idx=0)\n",
              "  (lstm): LSTM(128, 128, batch_first=True, bidirectional=True)\n",
              "  (fc): Linear(in_features=256, out_features=14, bias=True)\n",
              ")"
            ]
          },
          "metadata": {},
          "execution_count": 40
        }
      ]
    },
    {
      "cell_type": "markdown",
      "source": [
        "A few notes about the model summary:<br>\n",
        "\n",
        "The embedding layer **output** has three dimensions:\n",
        "- Batch size (it's showing as \"None\" because we didn't specify it upfront. We'll do it when we call *model.fit*).\n",
        "- Sequence length (the sequences are all the same length now after our padding step).\n",
        "- Embedding dimension.\n",
        "<br><br>\n",
        "\n",
        "The LSTM outputs a vector *twice* the size of what we specified because it's bidirectional. Recall from the slides that the outputs from the two LSTMs will be concatenated before going to the output layer.\n",
        "<br><br>\n",
        "\n",
        "The final layer's **output** also has three dimensions:\n",
        "- Batch size\n",
        "- Sequence length\n",
        "- Output dimension (the number of possible tags).\n",
        "\n",
        "The output will be a **sequence of probability distributions** for each input sequence. One probability distribution per tag.\n",
        "\n"
      ],
      "metadata": {
        "id": "s-RPX0V86btV"
      }
    },
    {
      "cell_type": "code",
      "source": [
        "# Define the loss function and the optimizer\n",
        "criterion = nn.CrossEntropyLoss(ignore_index=0)\n",
        "optimizer = optim.Adam(model.parameters())"
      ],
      "metadata": {
        "id": "0hHfijDg92CI"
      },
      "execution_count": 41,
      "outputs": []
    },
    {
      "cell_type": "code",
      "source": [
        "# Check if CUDA is available\n",
        "device = torch.device(\"cuda\" if torch.cuda.is_available() else \"cpu\")\n",
        "model.to(device)"
      ],
      "metadata": {
        "colab": {
          "base_uri": "https://localhost:8080/"
        },
        "id": "G0IUZ_RGvKlj",
        "outputId": "6ed41ed1-c39e-41d3-a4f9-aeeb1db62692"
      },
      "execution_count": 42,
      "outputs": [
        {
          "output_type": "execute_result",
          "data": {
            "text/plain": [
              "BidirectionalLSTMModel(\n",
              "  (embedding): Embedding(52042, 128, padding_idx=0)\n",
              "  (lstm): LSTM(128, 128, batch_first=True, bidirectional=True)\n",
              "  (fc): Linear(in_features=256, out_features=14, bias=True)\n",
              ")"
            ]
          },
          "metadata": {},
          "execution_count": 42
        }
      ]
    },
    {
      "cell_type": "code",
      "source": [
        "# Training and Validation Loop\n",
        "num_epochs = 10\n",
        "\n",
        "for epoch in range(num_epochs):\n",
        "    # Training\n",
        "    model.train()\n",
        "    train_loss = 0\n",
        "    train_loader_tqdm = tqdm(train_loader, desc=f'Epoch {epoch+1}/{num_epochs} Training')\n",
        "    for inputs, targets in train_loader_tqdm:\n",
        "        inputs, targets = inputs.to(device), targets.to(device)\n",
        "        optimizer.zero_grad()\n",
        "        outputs = model(inputs)\n",
        "        outputs = outputs.view(-1, num_classes)  # Flatten for loss computation\n",
        "        targets = targets.view(-1)  # Flatten for loss computation\n",
        "        loss = criterion(outputs, targets)\n",
        "        loss.backward()\n",
        "        optimizer.step()\n",
        "        train_loss += loss.item() * inputs.size(0)\n",
        "        train_loader_tqdm.set_postfix(loss=train_loss / len(train_loader.dataset))\n",
        "    train_loss /= len(train_loader.dataset)\n",
        "\n",
        "    # Validation\n",
        "    model.eval()\n",
        "    val_loss = 0\n",
        "    correct = 0\n",
        "    total = 0\n",
        "    with torch.no_grad():\n",
        "        val_loader_tqdm = tqdm(val_loader, desc=f'Epoch {epoch+1}/{num_epochs} Validation')\n",
        "        for inputs, targets in val_loader_tqdm:\n",
        "            inputs, targets = inputs.to(device), targets.to(device)\n",
        "            outputs = model(inputs)\n",
        "            outputs = outputs.view(-1, num_classes)\n",
        "            targets = targets.view(-1)\n",
        "            loss = criterion(outputs, targets)\n",
        "            val_loss += loss.item() * inputs.size(0)\n",
        "\n",
        "            _, predicted = torch.max(outputs, 1)\n",
        "            mask = targets != 0  # Ignore padding tokens\n",
        "            correct += (predicted[mask] == targets[mask]).sum().item()\n",
        "            total += mask.sum().item()\n",
        "            val_loader_tqdm.set_postfix(loss=val_loss / len(val_loader.dataset))\n",
        "    val_loss /= len(val_loader.dataset)\n",
        "    val_accuracy = correct / total\n",
        "\n",
        "    # Print training and validation loss and accuracy\n",
        "    print(f'Epoch {epoch+1}/{num_epochs}, Training Loss: {train_loss:.4f}, Validation Loss: {val_loss:.4f}, Validation Accuracy: {val_accuracy:.4f}\\n')\n"
      ],
      "metadata": {
        "colab": {
          "base_uri": "https://localhost:8080/"
        },
        "id": "GyuYGlS2lPxA",
        "outputId": "9a4fa0b2-38a9-4ab7-d3c2-8d187d9aa95e"
      },
      "execution_count": 43,
      "outputs": [
        {
          "output_type": "stream",
          "name": "stderr",
          "text": [
            "Epoch 1/10 Training: 100%|██████████| 212/212 [00:11<00:00, 18.50it/s, loss=0.781]\n",
            "Epoch 1/10 Validation: 100%|██████████| 43/43 [00:01<00:00, 36.68it/s, loss=0.334]\n"
          ]
        },
        {
          "output_type": "stream",
          "name": "stdout",
          "text": [
            "Epoch 1/10, Training Loss: 0.7812, Validation Loss: 0.3343, Validation Accuracy: 0.8925\n",
            "\n"
          ]
        },
        {
          "output_type": "stream",
          "name": "stderr",
          "text": [
            "Epoch 2/10 Training: 100%|██████████| 212/212 [00:08<00:00, 23.80it/s, loss=0.26]\n",
            "Epoch 2/10 Validation: 100%|██████████| 43/43 [00:00<00:00, 59.95it/s, loss=0.208]\n"
          ]
        },
        {
          "output_type": "stream",
          "name": "stdout",
          "text": [
            "Epoch 2/10, Training Loss: 0.2603, Validation Loss: 0.2084, Validation Accuracy: 0.9336\n",
            "\n"
          ]
        },
        {
          "output_type": "stream",
          "name": "stderr",
          "text": [
            "Epoch 3/10 Training: 100%|██████████| 212/212 [00:08<00:00, 24.80it/s, loss=0.175]\n",
            "Epoch 3/10 Validation: 100%|██████████| 43/43 [00:00<00:00, 59.92it/s, loss=0.161]\n"
          ]
        },
        {
          "output_type": "stream",
          "name": "stdout",
          "text": [
            "Epoch 3/10, Training Loss: 0.1747, Validation Loss: 0.1605, Validation Accuracy: 0.9482\n",
            "\n"
          ]
        },
        {
          "output_type": "stream",
          "name": "stderr",
          "text": [
            "Epoch 4/10 Training: 100%|██████████| 212/212 [00:08<00:00, 26.26it/s, loss=0.132]\n",
            "Epoch 4/10 Validation: 100%|██████████| 43/43 [00:00<00:00, 59.35it/s, loss=0.137]\n"
          ]
        },
        {
          "output_type": "stream",
          "name": "stdout",
          "text": [
            "Epoch 4/10, Training Loss: 0.1322, Validation Loss: 0.1370, Validation Accuracy: 0.9558\n",
            "\n"
          ]
        },
        {
          "output_type": "stream",
          "name": "stderr",
          "text": [
            "Epoch 5/10 Training: 100%|██████████| 212/212 [00:08<00:00, 25.19it/s, loss=0.105]\n",
            "Epoch 5/10 Validation: 100%|██████████| 43/43 [00:00<00:00, 59.84it/s, loss=0.123]\n"
          ]
        },
        {
          "output_type": "stream",
          "name": "stdout",
          "text": [
            "Epoch 5/10, Training Loss: 0.1051, Validation Loss: 0.1225, Validation Accuracy: 0.9600\n",
            "\n"
          ]
        },
        {
          "output_type": "stream",
          "name": "stderr",
          "text": [
            "Epoch 6/10 Training: 100%|██████████| 212/212 [00:08<00:00, 25.33it/s, loss=0.0852]\n",
            "Epoch 6/10 Validation: 100%|██████████| 43/43 [00:00<00:00, 52.85it/s, loss=0.115]\n"
          ]
        },
        {
          "output_type": "stream",
          "name": "stdout",
          "text": [
            "Epoch 6/10, Training Loss: 0.0852, Validation Loss: 0.1146, Validation Accuracy: 0.9628\n",
            "\n"
          ]
        },
        {
          "output_type": "stream",
          "name": "stderr",
          "text": [
            "Epoch 7/10 Training: 100%|██████████| 212/212 [00:08<00:00, 24.87it/s, loss=0.0696]\n",
            "Epoch 7/10 Validation: 100%|██████████| 43/43 [00:00<00:00, 58.46it/s, loss=0.109]\n"
          ]
        },
        {
          "output_type": "stream",
          "name": "stdout",
          "text": [
            "Epoch 7/10, Training Loss: 0.0696, Validation Loss: 0.1093, Validation Accuracy: 0.9649\n",
            "\n"
          ]
        },
        {
          "output_type": "stream",
          "name": "stderr",
          "text": [
            "Epoch 8/10 Training: 100%|██████████| 212/212 [00:08<00:00, 24.71it/s, loss=0.057]\n",
            "Epoch 8/10 Validation: 100%|██████████| 43/43 [00:00<00:00, 57.91it/s, loss=0.108]\n"
          ]
        },
        {
          "output_type": "stream",
          "name": "stdout",
          "text": [
            "Epoch 8/10, Training Loss: 0.0570, Validation Loss: 0.1076, Validation Accuracy: 0.9656\n",
            "\n"
          ]
        },
        {
          "output_type": "stream",
          "name": "stderr",
          "text": [
            "Epoch 9/10 Training: 100%|██████████| 212/212 [00:08<00:00, 23.83it/s, loss=0.0468]\n",
            "Epoch 9/10 Validation: 100%|██████████| 43/43 [00:00<00:00, 54.15it/s, loss=0.107]\n"
          ]
        },
        {
          "output_type": "stream",
          "name": "stdout",
          "text": [
            "Epoch 9/10, Training Loss: 0.0468, Validation Loss: 0.1070, Validation Accuracy: 0.9662\n",
            "\n"
          ]
        },
        {
          "output_type": "stream",
          "name": "stderr",
          "text": [
            "Epoch 10/10 Training: 100%|██████████| 212/212 [00:08<00:00, 23.60it/s, loss=0.0383]\n",
            "Epoch 10/10 Validation: 100%|██████████| 43/43 [00:00<00:00, 57.86it/s, loss=0.109]\n"
          ]
        },
        {
          "output_type": "stream",
          "name": "stdout",
          "text": [
            "Epoch 10/10, Training Loss: 0.0383, Validation Loss: 0.1095, Validation Accuracy: 0.9663\n",
            "\n"
          ]
        }
      ]
    },
    {
      "cell_type": "code",
      "source": [
        "# Save the model\n",
        "torch.save(model.state_dict(), '/content/drive/MyDrive/RNN model/bidirectional_lstm.pth')"
      ],
      "metadata": {
        "id": "3_bJ-Y7ROySG"
      },
      "execution_count": 44,
      "outputs": []
    },
    {
      "cell_type": "markdown",
      "source": [
        "### Evaluation"
      ],
      "metadata": {
        "id": "kMIEuEIkwqOv"
      }
    },
    {
      "cell_type": "code",
      "source": [
        "# Preprocess the test data and test the model.\n",
        "x_test_seqs = sentence_tokenizer.texts_to_sequences(x_test)\n",
        "x_test_padded = keras.preprocessing.sequence.pad_sequences(x_test_seqs, padding='post', maxlen=MAX_LENGTH)\n",
        "\n",
        "y_test_seqs = tag_tokenizer.texts_to_sequences(y_test)\n",
        "y_test_padded = keras.preprocessing.sequence.pad_sequences(y_test_seqs, padding='post', maxlen=MAX_LENGTH)"
      ],
      "metadata": {
        "id": "NjBNMiGyaoRC"
      },
      "execution_count": 45,
      "outputs": []
    },
    {
      "cell_type": "code",
      "source": [
        "# Convert to Pytorch tensor\n",
        "x_test_padded = torch.tensor(x_test_padded, dtype=torch.long)\n",
        "y_test_padded = torch.tensor(y_test_padded, dtype=torch.long)"
      ],
      "metadata": {
        "id": "AV2suiLkw8Gy"
      },
      "execution_count": 46,
      "outputs": []
    },
    {
      "cell_type": "code",
      "source": [
        "# Create Dataset\n",
        "test_dataset = TextPosDataset(x_test_padded, y_test_padded)"
      ],
      "metadata": {
        "id": "TMxwP8itxAeI"
      },
      "execution_count": 47,
      "outputs": []
    },
    {
      "cell_type": "code",
      "source": [
        "# Create DataLoader\n",
        "test_loader = DataLoader(test_dataset, batch_size=256, shuffle=False)"
      ],
      "metadata": {
        "id": "tGP_I5DjxIDB"
      },
      "execution_count": 48,
      "outputs": []
    },
    {
      "cell_type": "code",
      "source": [
        "# Set the model to evaluation mode\n",
        "model.eval()\n",
        "\n",
        "test_loss = 0\n",
        "correct = 0\n",
        "total = 0\n",
        "\n",
        "with torch.no_grad():\n",
        "    for inputs, targets in tqdm(test_loader, desc='Evaluating'):\n",
        "        inputs, targets = inputs.to(device), targets.to(device)\n",
        "        outputs = model(inputs)\n",
        "        outputs = outputs.view(-1, num_classes)\n",
        "        targets = targets.view(-1)\n",
        "\n",
        "        loss = criterion(outputs, targets)\n",
        "        test_loss += loss.item() * inputs.size(0)\n",
        "\n",
        "        _, predicted = torch.max(outputs, 1)\n",
        "        mask = targets != 0  # Ignore padding tokens\n",
        "        correct += (predicted[mask] == targets[mask]).sum().item()\n",
        "        total += mask.sum().item()\n",
        "\n",
        "test_loss /= len(test_loader.dataset)\n",
        "test_accuracy = correct / total\n",
        "\n",
        "print(f'Test Loss: {test_loss:.4f}, Test Accuracy: {test_accuracy:.4f}')\n"
      ],
      "metadata": {
        "colab": {
          "base_uri": "https://localhost:8080/"
        },
        "id": "wxxpW13dxL8h",
        "outputId": "b54eae6f-9f8d-47c6-a0c0-fbd979810fed"
      },
      "execution_count": 49,
      "outputs": [
        {
          "output_type": "stream",
          "name": "stderr",
          "text": [
            "Evaluating: 100%|██████████| 29/29 [00:00<00:00, 48.44it/s]"
          ]
        },
        {
          "output_type": "stream",
          "name": "stdout",
          "text": [
            "Test Loss: 0.1130, Test Accuracy: 0.9660\n"
          ]
        },
        {
          "output_type": "stream",
          "name": "stderr",
          "text": [
            "\n"
          ]
        }
      ]
    },
    {
      "cell_type": "markdown",
      "source": [
        "We can now use our model to tag sentences."
      ],
      "metadata": {
        "id": "5EnxAd_UbWpt"
      }
    },
    {
      "cell_type": "code",
      "source": [
        "samples = [\n",
        "    \"Brown refused to testify.\",\n",
        "    \"Brown sofas are on sale.\",\n",
        "]"
      ],
      "metadata": {
        "id": "vpdBrMTKYC2o"
      },
      "execution_count": 50,
      "outputs": []
    },
    {
      "cell_type": "markdown",
      "source": [
        "The function below takes a list of strings, tokenizes and pads them, then has the model tag them. Note that if a sentence is longer than MAX_LENGTH, it'll be truncated."
      ],
      "metadata": {
        "id": "9Pk-IzuDN7Fu"
      }
    },
    {
      "cell_type": "code",
      "source": [
        "def tag_sentences(sentences):\n",
        "  sentences_seqs = sentence_tokenizer.texts_to_sequences(sentences)\n",
        "  sentences_padded = keras.preprocessing.sequence.pad_sequences(sentences_seqs,\n",
        "                                                                maxlen=MAX_LENGTH,\n",
        "                                                                padding='post')\n",
        "\n",
        "  # Convert to PyTorch tensor\n",
        "  sentences_padded_tensor = torch.tensor(sentences_padded, dtype=torch.long).to(device)\n",
        "\n",
        "  # Set the model to evaluation mode\n",
        "  model.eval()\n",
        "\n",
        "  # Get the model predictions\n",
        "  with torch.no_grad():\n",
        "      tag_preds = model(sentences_padded_tensor)\n",
        "\n",
        "  # Convert predictions to POS tags\n",
        "  sentence_tags = []\n",
        "  for i, preds in enumerate(tag_preds):\n",
        "    preds = preds.cpu().numpy()  # Move to CPU and convert to numpy array\n",
        "\n",
        "    # Extract the most probable tag from EACH probability distribution.\n",
        "    # Note how we're extracting tags for only the non-padding tokens.\n",
        "    tags_seq = [np.argmax(p) for p in preds[:len(sentences_seqs[i])]]\n",
        "\n",
        "    # Convert the sentence and tag sequences back to their token counterparts.\n",
        "    words = [sentence_tokenizer.index_word[w] for w in sentences_seqs[i]]\n",
        "    tags = [tag_tokenizer.index_word[t] for t in tags_seq]\n",
        "    sentence_tags.append(list(zip(words, tags)))\n",
        "\n",
        "  return sentence_tags\n"
      ],
      "metadata": {
        "id": "eJhZy6Qtbfgz"
      },
      "execution_count": 51,
      "outputs": []
    },
    {
      "cell_type": "code",
      "source": [
        "tagged_sample_sentences = tag_sentences(samples)"
      ],
      "metadata": {
        "id": "epf-F8q79U8i"
      },
      "execution_count": 52,
      "outputs": []
    },
    {
      "cell_type": "code",
      "source": [
        "print(tagged_sample_sentences[0])"
      ],
      "metadata": {
        "id": "1n8DlpC3fx78",
        "colab": {
          "base_uri": "https://localhost:8080/"
        },
        "outputId": "689b2123-b9ff-4eb5-d9c2-0c116ca33ff3"
      },
      "execution_count": 53,
      "outputs": [
        {
          "output_type": "stream",
          "name": "stdout",
          "text": [
            "[('brown', 'noun'), ('refused', 'verb'), ('to', 'prt'), ('testify', 'verb')]\n"
          ]
        }
      ]
    },
    {
      "cell_type": "code",
      "source": [
        "print(tagged_sample_sentences[1])"
      ],
      "metadata": {
        "id": "Zu9RsRzPe1Ft",
        "colab": {
          "base_uri": "https://localhost:8080/"
        },
        "outputId": "6ffe2ecd-5172-487f-cf01-d86873dd80d4"
      },
      "execution_count": 54,
      "outputs": [
        {
          "output_type": "stream",
          "name": "stdout",
          "text": [
            "[('brown', 'adj'), ('sofas', 'noun'), ('are', 'verb'), ('on', 'adp'), ('sale', 'noun')]\n"
          ]
        }
      ]
    },
    {
      "cell_type": "markdown",
      "source": [
        "# Language Modelling With Stacked LSTMs"
      ],
      "metadata": {
        "id": "aN6_SU-WPaMj"
      }
    },
    {
      "cell_type": "markdown",
      "source": [
        "We'll build a language model trained on the *Art of War* by Sun Tzu."
      ],
      "metadata": {
        "id": "Ay1F6VQZPeKX"
      }
    },
    {
      "cell_type": "code",
      "source": [
        "# Open the file in read mode\n",
        "with open('/content/drive/MyDrive/RNN model/art_of_war.txt', 'r') as file:\n",
        "    # Read the entire content of the file\n",
        "    art_of_war = file.read()\n",
        "    print(art_of_war)\n"
      ],
      "metadata": {
        "colab": {
          "base_uri": "https://localhost:8080/"
        },
        "id": "nFr-4ifOP8uM",
        "outputId": "dae11f48-79a5-49a1-fac5-25b8d9f3f8f7"
      },
      "execution_count": 7,
      "outputs": [
        {
          "output_type": "stream",
          "name": "stdout",
          "text": [
            "1. Sun Tzŭ said: The art of war is of vital importance to the State.\n",
            "\n",
            "2. It is a matter of life and death, a road either to safety or to\n",
            "ruin. Hence it is a subject of inquiry which can on no account be\n",
            "neglected.\n",
            "\n",
            "3. The art of war, then, is governed by five constant factors, to be\n",
            "taken into account in one’s deliberations, when seeking to determine\n",
            "the conditions obtaining in the field.\n",
            "\n",
            "4. These are: (1) The Moral Law; (2) Heaven; (3) Earth; (4) The\n",
            "Commander; (5) Method and discipline.\n",
            "\n",
            "5, 6. _The Moral Law_ causes the people to be in complete accord with\n",
            "their ruler, so that they will follow him regardless of their lives,\n",
            "undismayed by any danger.\n",
            "\n",
            "7. Heaven signifies night and day, cold and heat, times and seasons.\n",
            "\n",
            "8. Earth comprises distances, great and small; danger and security;\n",
            "open ground and narrow passes; the chances of life and death.\n",
            "\n",
            "9. The Commander stands for the virtues of wisdom, sincerity,\n",
            "benevolence, courage and strictness.\n",
            "\n",
            "10. By _Method and discipline_ are to be understood the marshalling of\n",
            "the army in its proper subdivisions, the gradations of rank among the\n",
            "officers, the maintenance of roads by which supplies may reach the\n",
            "army, and the control of military expenditure.\n",
            "\n",
            "11. These five heads should be familiar to every general: he who knows\n",
            "them will be victorious; he who knows them not will fail.\n",
            "\n",
            "12. Therefore, in your deliberations, when seeking to determine the\n",
            "military conditions, let them be made the basis of a comparison, in\n",
            "this wise:—\n",
            "\n",
            "13. (1) Which of the two sovereigns is imbued with the Moral law?\n",
            "(2) Which of the two generals has most ability?\n",
            "(3) With whom lie the advantages derived from Heaven and Earth?\n",
            "(4) On which side is discipline most rigorously enforced?\n",
            "(5) Which army is the stronger?\n",
            "(6) On which side are officers and men more highly trained?\n",
            "(7) In which army is there the greater constancy both in reward and\n",
            "punishment?\n",
            "\n",
            "14. By means of these seven considerations I can forecast victory or\n",
            "defeat.\n",
            "\n",
            "15. The general that hearkens to my counsel and acts upon it, will\n",
            "conquer: let such a one be retained in command! The general that\n",
            "hearkens not to my counsel nor acts upon it, will suffer defeat:—let\n",
            "such a one be dismissed!\n",
            "\n",
            "16. While heeding the profit of my counsel, avail yourself also of any\n",
            "helpful circumstances over and beyond the ordinary rules.\n",
            "\n",
            "17. According as circumstances are favourable, one should modify one’s\n",
            "plans.\n",
            "\n",
            "18. All warfare is based on deception.\n",
            "\n",
            "19. Hence, when able to attack, we must seem unable; when using our\n",
            "forces, we must seem inactive; when we are near, we must make the enemy\n",
            "believe we are far away; when far away, we must make him believe we are\n",
            "near.\n",
            "\n",
            "20. Hold out baits to entice the enemy. Feign disorder, and crush him.\n",
            "\n",
            "21. If he is secure at all points, be prepared for him. If he is in\n",
            "superior strength, evade him.\n",
            "\n",
            "22. If your opponent is of choleric temper, seek to irritate him.\n",
            "Pretend to be weak, that he may grow arrogant.\n",
            "\n",
            "23. If he is taking his ease, give him no rest. If his forces are\n",
            "united, separate them.\n",
            "\n",
            "24. Attack him where he is unprepared, appear where you are not\n",
            "expected.\n",
            "\n",
            "25. These military devices, leading to victory, must not be divulged\n",
            "beforehand.\n",
            "\n",
            "26. Now the general who wins a battle makes many calculations in his\n",
            "temple ere the battle is fought. The general who loses a battle makes\n",
            "but few calculations beforehand. Thus do many calculations lead to\n",
            "victory, and few calculations to defeat: how much more no calculation\n",
            "at all! It is by attention to this point that I can foresee who is\n",
            "likely to win or lose.\n",
            "\n",
            "1. Sun Tzŭ said: In the operations of war, where there are in the field\n",
            "a thousand swift chariots, as many heavy chariots, and a hundred\n",
            "thousand mail-clad soldiers, with provisions enough to carry them a\n",
            "thousand _li_, the expenditure at home and at the front, including\n",
            "entertainment of guests, small items such as glue and paint, and sums\n",
            "spent on chariots and armour, will reach the total of a thousand ounces\n",
            "of silver per day. Such is the cost of raising an army of 100,000 men.\n",
            "\n",
            "2. When you engage in actual fighting, if victory is long in coming,\n",
            "the men’s weapons will grow dull and their ardour will be damped. If\n",
            "you lay siege to a town, you will exhaust your strength.\n",
            "\n",
            "3. Again, if the campaign is protracted, the resources of the State\n",
            "will not be equal to the strain.\n",
            "\n",
            "4. Now, when your weapons are dulled, your ardour damped, your strength\n",
            "exhausted and your treasure spent, other chieftains will spring up to\n",
            "take advantage of your extremity. Then no man, however wise, will be\n",
            "able to avert the consequences that must ensue.\n",
            "\n",
            "5. Thus, though we have heard of stupid haste in war, cleverness has\n",
            "never been seen associated with long delays.\n",
            "\n",
            "6. There is no instance of a country having benefited from prolonged\n",
            "warfare.\n",
            "\n",
            "7. It is only one who is thoroughly acquainted with the evils of war\n",
            "that can thoroughly understand the profitable way of carrying it on.\n",
            "\n",
            "8. The skilful soldier does not raise a second levy, neither are his\n",
            "supply-waggons loaded more than twice.\n",
            "\n",
            "9. Bring war material with you from home, but forage on the enemy. Thus\n",
            "the army will have food enough for its needs.\n",
            "\n",
            "10. Poverty of the State exchequer causes an army to be maintained by\n",
            "contributions from a distance. Contributing to maintain an army at a\n",
            "distance causes the people to be impoverished.\n",
            "\n",
            "11. On the other hand, the proximity of an army causes prices to go up;\n",
            "and high prices cause the people’s substance to be drained away.\n",
            "\n",
            "12. When their substance is drained away, the peasantry will be\n",
            "afflicted by heavy exactions.\n",
            "\n",
            "13, 14. With this loss of substance and exhaustion of strength, the\n",
            "homes of the people will be stripped bare, and three-tenths of their\n",
            "incomes will be dissipated; while Government expenses for broken\n",
            "chariots, worn-out horses, breast-plates and helmets, bows and arrows,\n",
            "spears and shields, protective mantlets, draught-oxen and heavy\n",
            "waggons, will amount to four-tenths of its total revenue.\n",
            "\n",
            "15. Hence a wise general makes a point of foraging on the enemy. One\n",
            "cartload of the enemy’s provisions is equivalent to twenty of one’s\n",
            "own, and likewise a single picul of his provender is equivalent to\n",
            "twenty from one’s own store.\n",
            "\n",
            "16. Now in order to kill the enemy, our men must be roused to anger;\n",
            "that there may be advantage from defeating the enemy, they must have\n",
            "their rewards.\n",
            "\n",
            "17. Therefore in chariot fighting, when ten or more chariots have been\n",
            "taken, those should be rewarded who took the first. Our own flags\n",
            "should be substituted for those of the enemy, and the chariots mingled\n",
            "and used in conjunction with ours. The captured soldiers should be\n",
            "kindly treated and kept.\n",
            "\n",
            "18. This is called, using the conquered foe to augment one’s own\n",
            "strength.\n",
            "\n",
            "19. In war, then, let your great object be victory, not lengthy\n",
            "campaigns.\n",
            "\n",
            "20. Thus it may be known that the leader of armies is the arbiter of\n",
            "the people’s fate, the man on whom it depends whether the nation shall\n",
            "be in peace or in peril.\n",
            "\n",
            "1. Sun Tzŭ said: In the practical art of war, the best thing of all is\n",
            "to take the enemy’s country whole and intact; to shatter and destroy it\n",
            "is not so good. So, too, it is better to capture an army entire than to\n",
            "destroy it, to capture a regiment, a detachment or a company entire\n",
            "than to destroy them.\n",
            "\n",
            "2. Hence to fight and conquer in all your battles is not supreme\n",
            "excellence; supreme excellence consists in breaking the enemy’s\n",
            "resistance without fighting.\n",
            "\n",
            "3. Thus the highest form of generalship is to baulk the enemy’s plans;\n",
            "the next best is to prevent the junction of the enemy’s forces; the\n",
            "next in order is to attack the enemy’s army in the field; and the worst\n",
            "policy of all is to besiege walled cities.\n",
            "\n",
            "4. The rule is, not to besiege walled cities if it can possibly be\n",
            "avoided. The preparation of mantlets, movable shelters, and various\n",
            "implements of war, will take up three whole months; and the piling up\n",
            "of mounds over against the walls will take three months more.\n",
            "\n",
            "5. The general, unable to control his irritation, will launch his men\n",
            "to the assault like swarming ants, with the result that one-third of\n",
            "his men are slain, while the town still remains untaken. Such are the\n",
            "disastrous effects of a siege.\n",
            "\n",
            "6. Therefore the skilful leader subdues the enemy’s troops without any\n",
            "fighting; he captures their cities without laying siege to them; he\n",
            "overthrows their kingdom without lengthy operations in the field.\n",
            "\n",
            "7. With his forces intact he will dispute the mastery of the Empire,\n",
            "and thus, without losing a man, his triumph will be complete. This is\n",
            "the method of attacking by stratagem.\n",
            "\n",
            "8. It is the rule in war, if our forces are ten to the enemy’s one, to\n",
            "surround him; if five to one, to attack him; if twice as numerous, to\n",
            "divide our army into two.\n",
            "\n",
            "9. If equally matched, we can offer battle; if slightly inferior in\n",
            "numbers, we can avoid the enemy; if quite unequal in every way, we can\n",
            "flee from him.\n",
            "\n",
            "10. Hence, though an obstinate fight may be made by a small force, in\n",
            "the end it must be captured by the larger force.\n",
            "\n",
            "11. Now the general is the bulwark of the State: if the bulwark is\n",
            "complete at all points; the State will be strong; if the bulwark is\n",
            "defective, the State will be weak.\n",
            "\n",
            "12. There are three ways in which a ruler can bring misfortune upon his\n",
            "army:—\n",
            "\n",
            "13. (1) By commanding the army to advance or to retreat, being ignorant\n",
            "of the fact that it cannot obey. This is called hobbling the army.\n",
            "\n",
            "14. (2) By attempting to govern an army in the same way as he\n",
            "administers a kingdom, being ignorant of the conditions which obtain in\n",
            "an army. This causes restlessness in the soldier’s minds.\n",
            "\n",
            "15. (3) By employing the officers of his army without discrimination,\n",
            "through ignorance of the military principle of adaptation to\n",
            "circumstances. This shakes the confidence of the soldiers.\n",
            "\n",
            "16. But when the army is restless and distrustful, trouble is sure to\n",
            "come from the other feudal princes. This is simply bringing anarchy\n",
            "into the army, and flinging victory away.\n",
            "\n",
            "17. Thus we may know that there are five essentials for victory:\n",
            "(1) He will win who knows when to fight and when not to fight.\n",
            "(2) He will win who knows how to handle both superior and inferior\n",
            "forces.\n",
            "(3) He will win whose army is animated by the same spirit throughout\n",
            "all its ranks.\n",
            "(4) He will win who, prepared himself, waits to take the enemy\n",
            "unprepared.\n",
            "(5) He will win who has military capacity and is not interfered with by\n",
            "the sovereign.\n",
            "Victory lies in the knowledge of these five points.\n",
            "\n",
            "18. Hence the saying: If you know the enemy and know yourself, you need\n",
            "not fear the result of a hundred battles. If you know yourself but not\n",
            "the enemy, for every victory gained you will also suffer a defeat. If\n",
            "you know neither the enemy nor yourself, you will succumb in every\n",
            "battle.\n",
            "\n",
            "1. Sun Tzŭ said: The good fighters of old first put themselves beyond\n",
            "the possibility of defeat, and then waited for an opportunity of\n",
            "defeating the enemy.\n",
            "\n",
            "2. To secure ourselves against defeat lies in our own hands, but the\n",
            "opportunity of defeating the enemy is provided by the enemy himself.\n",
            "\n",
            "3. Thus the good fighter is able to secure himself against defeat, but\n",
            "cannot make certain of defeating the enemy.\n",
            "\n",
            "4. Hence the saying: One may _know_ how to conquer without being able\n",
            "to _do_ it.\n",
            "\n",
            "5. Security against defeat implies defensive tactics; ability to defeat\n",
            "the enemy means taking the offensive.\n",
            "\n",
            "6. Standing on the defensive indicates insufficient strength;\n",
            "attacking, a superabundance of strength.\n",
            "\n",
            "7. The general who is skilled in defence hides in the most secret\n",
            "recesses of the earth; he who is skilled in attack flashes forth from\n",
            "the topmost heights of heaven. Thus on the one hand we have ability to\n",
            "protect ourselves; on the other, a victory that is complete.\n",
            "\n",
            "8. To see victory only when it is within the ken of the common herd is\n",
            "not the acme of excellence.\n",
            "\n",
            "9. Neither is it the acme of excellence if you fight and conquer and\n",
            "the whole Empire says, “Well done!”\n",
            "\n",
            "10. To lift an autumn hair is no sign of great strength; to see sun and\n",
            "moon is no sign of sharp sight; to hear the noise of thunder is no sign\n",
            "of a quick ear.\n",
            "\n",
            "11. What the ancients called a clever fighter is one who not only wins,\n",
            "but excels in winning with ease.\n",
            "\n",
            "12. Hence his victories bring him neither reputation for wisdom nor\n",
            "credit for courage.\n",
            "\n",
            "13. He wins his battles by making no mistakes. Making no mistakes is\n",
            "what establishes the certainty of victory, for it means conquering an\n",
            "enemy that is already defeated.\n",
            "\n",
            "14. Hence the skilful fighter puts himself into a position which makes\n",
            "defeat impossible, and does not miss the moment for defeating the\n",
            "enemy.\n",
            "\n",
            "15. Thus it is that in war the victorious strategist only seeks battle\n",
            "after the victory has been won, whereas he who is destined to defeat\n",
            "first fights and afterwards looks for victory.\n",
            "\n",
            "16. The consummate leader cultivates the moral law, and strictly\n",
            "adheres to method and discipline; thus it is in his power to control\n",
            "success.\n",
            "\n",
            "17. In respect of military method, we have, firstly, Measurement;\n",
            "secondly, Estimation of quantity; thirdly, Calculation; fourthly,\n",
            "Balancing of chances; fifthly, Victory.\n",
            "\n",
            "18. Measurement owes its existence to Earth; Estimation of quantity to\n",
            "Measurement; Calculation to Estimation of quantity; Balancing of\n",
            "chances to Calculation; and Victory to Balancing of chances.\n",
            "\n",
            "19. A victorious army opposed to a routed one, is as a pound’s weight\n",
            "placed in the scale against a single grain.\n",
            "\n",
            "20. The onrush of a conquering force is like the bursting of pent-up\n",
            "waters into a chasm a thousand fathoms deep. So much for tactical\n",
            "dispositions.\n",
            "\n",
            "1. Sun Tzŭ said: The control of a large force is the same principle as\n",
            "the control of a few men: it is merely a question of dividing up their\n",
            "numbers.\n",
            "\n",
            "2. Fighting with a large army under your command is nowise different\n",
            "from fighting with a small one: it is merely a question of instituting\n",
            "signs and signals.\n",
            "\n",
            "3. To ensure that your whole host may withstand the brunt of the\n",
            "enemy’s attack and remain unshaken—this is effected by manœuvers direct\n",
            "and indirect.\n",
            "\n",
            "4. That the impact of your army may be like a grindstone dashed against\n",
            "an egg—this is effected by the science of weak points and strong.\n",
            "\n",
            "5. In all fighting, the direct method may be used for joining battle,\n",
            "but indirect methods will be needed in order to secure victory.\n",
            "\n",
            "6. Indirect tactics, efficiently applied, are inexhaustible as Heaven\n",
            "and Earth, unending as the flow of rivers and streams; like the sun and\n",
            "moon, they end but to begin anew; like the four seasons, they pass away\n",
            "but to return once more.\n",
            "\n",
            "7. There are not more than five musical notes, yet the combinations of\n",
            "these five give rise to more melodies than can ever be heard.\n",
            "\n",
            "8. There are not more than five primary colours (blue, yellow, red,\n",
            "white, and black), yet in combination they produce more hues than can\n",
            "ever be seen.\n",
            "\n",
            "9. There are not more than five cardinal tastes (sour, acrid, salt,\n",
            "sweet, bitter), yet combinations of them yield more flavours than can\n",
            "ever be tasted.\n",
            "\n",
            "10. In battle, there are not more than two methods of attack—the direct\n",
            "and the indirect; yet these two in combination give rise to an endless\n",
            "series of manœuvers.\n",
            "\n",
            "11. The direct and the indirect lead on to each other in turn. It is\n",
            "like moving in a circle—you never come to an end. Who can exhaust the\n",
            "possibilities of their combination?\n",
            "\n",
            "12. The onset of troops is like the rush of a torrent which will even\n",
            "roll stones along in its course.\n",
            "\n",
            "13. The quality of decision is like the well-timed swoop of a falcon\n",
            "which enables it to strike and destroy its victim.\n",
            "\n",
            "14. Therefore the good fighter will be terrible in his onset, and\n",
            "prompt in his decision.\n",
            "\n",
            "15. Energy may be likened to the bending of a crossbow; decision, to\n",
            "the releasing of the trigger.\n",
            "\n",
            "16. Amid the turmoil and tumult of battle, there may be seeming\n",
            "disorder and yet no real disorder at all; amid confusion and chaos,\n",
            "your array may be without head or tail, yet it will be proof against\n",
            "defeat.\n",
            "\n",
            "17. Simulated disorder postulates perfect discipline; simulated fear\n",
            "postulates courage; simulated weakness postulates strength.\n",
            "\n",
            "18. Hiding order beneath the cloak of disorder is simply a question of\n",
            "subdivision; concealing courage under a show of timidity presupposes a\n",
            "fund of latent energy; masking strength with weakness is to be effected\n",
            "by tactical dispositions.\n",
            "\n",
            "19. Thus one who is skilful at keeping the enemy on the move maintains\n",
            "deceitful appearances, according to which the enemy will act. He\n",
            "sacrifices something, that the enemy may snatch at it.\n",
            "\n",
            "20. By holding out baits, he keeps him on the march; then with a body\n",
            "of picked men he lies in wait for him.\n",
            "\n",
            "21. The clever combatant looks to the effect of combined energy, and\n",
            "does not require too much from individuals. Hence his ability to pick\n",
            "out the right men and utilise combined energy.\n",
            "\n",
            "22. When he utilises combined energy, his fighting men become as it\n",
            "were like unto rolling logs or stones. For it is the nature of a log or\n",
            "stone to remain motionless on level ground, and to move when on a\n",
            "slope; if four-cornered, to come to a standstill, but if round-shaped,\n",
            "to go rolling down.\n",
            "\n",
            "23. Thus the energy developed by good fighting men is as the momentum\n",
            "of a round stone rolled down a mountain thousands of feet in height. So\n",
            "much on the subject of energy.\n",
            "\n",
            "1. Sun Tzŭ said: Whoever is first in the field and awaits the coming of\n",
            "the enemy, will be fresh for the fight; whoever is second in the field\n",
            "and has to hasten to battle, will arrive exhausted.\n",
            "\n",
            "2. Therefore the clever combatant imposes his will on the enemy, but\n",
            "does not allow the enemy’s will to be imposed on him.\n",
            "\n",
            "3. By holding out advantages to him, he can cause the enemy to approach\n",
            "of his own accord; or, by inflicting damage, he can make it impossible\n",
            "for the enemy to draw near.\n",
            "\n",
            "4. If the enemy is taking his ease, he can harass him; if well supplied\n",
            "with food, he can starve him out; if quietly encamped, he can force him\n",
            "to move.\n",
            "\n",
            "5. Appear at points which the enemy must hasten to defend; march\n",
            "swiftly to places where you are not expected.\n",
            "\n",
            "6. An army may march great distances without distress, if it marches\n",
            "through country where the enemy is not.\n",
            "\n",
            "7. You can be sure of succeeding in your attacks if you only attack\n",
            "places which are undefended.You can ensure the safety of your defence\n",
            "if you only hold positions that cannot be attacked.\n",
            "\n",
            "8. Hence that general is skilful in attack whose opponent does not know\n",
            "what to defend; and he is skilful in defence whose opponent does not\n",
            "know what to attack.\n",
            "\n",
            "9. O divine art of subtlety and secrecy! Through you we learn to be\n",
            "invisible, through you inaudible; and hence we can hold the enemy’s\n",
            "fate in our hands.\n",
            "\n",
            "10. You may advance and be absolutely irresistible, if you make for the\n",
            "enemy’s weak points; you may retire and be safe from pursuit if your\n",
            "movements are more rapid than those of the enemy.\n",
            "\n",
            "11. If we wish to fight, the enemy can be forced to an engagement even\n",
            "though he be sheltered behind a high rampart and a deep ditch. All we\n",
            "need do is attack some other place that he will be obliged to relieve.\n",
            "\n",
            "12. If we do not wish to fight, we can prevent the enemy from engaging\n",
            "us even though the lines of our encampment be merely traced out on the\n",
            "ground. All we need do is to throw something odd and unaccountable in\n",
            "his way.\n",
            "\n",
            "13. By discovering the enemy’s dispositions and remaining invisible\n",
            "ourselves, we can keep our forces concentrated, while the enemy’s must\n",
            "be divided.\n",
            "\n",
            "14. We can form a single united body, while the enemy must split up\n",
            "into fractions. Hence there will be a whole pitted against separate\n",
            "parts of a whole, which means that we shall be many to the enemy’s few.\n",
            "\n",
            "15. And if we are able thus to attack an inferior force with a superior\n",
            "one, our opponents will be in dire straits.\n",
            "\n",
            "16. The spot where we intend to fight must not be made known; for then\n",
            "the enemy will have to prepare against a possible attack at several\n",
            "different points; and his forces being thus distributed in many\n",
            "directions, the numbers we shall have to face at any given point will\n",
            "be proportionately few.\n",
            "\n",
            "17. For should the enemy strengthen his van, he will weaken his rear;\n",
            "should he strengthen his rear, he will weaken his van; should he\n",
            "strengthen his left, he will weaken his right; should he strengthen his\n",
            "right, he will weaken his left. If he sends reinforcements everywhere,\n",
            "he will everywhere be weak.\n",
            "\n",
            "18. Numerical weakness comes from having to prepare against possible\n",
            "attacks; numerical strength, from compelling our adversary to make\n",
            "these preparations against us.\n",
            "\n",
            "19. Knowing the place and the time of the coming battle, we may\n",
            "concentrate from the greatest distances in order to fight.\n",
            "\n",
            "20. But if neither time nor place be known, then the left wing will be\n",
            "impotent to succour the right, the right equally impotent to succour\n",
            "the left, the van unable to relieve the rear, or the rear to support\n",
            "the van. How much more so if the furthest portions of the army are\n",
            "anything under a hundred _li_ apart, and even the nearest are separated\n",
            "by several _li!_\n",
            "\n",
            "21. Though according to my estimate the soldiers of Yüeh exceed our own\n",
            "in number, that shall advantage them nothing in the matter of victory.\n",
            "I say then that victory can be achieved.\n",
            "\n",
            "22. Though the enemy be stronger in numbers, we may prevent him from\n",
            "fighting. Scheme so as to discover his plans and the likelihood of\n",
            "their success.\n",
            "\n",
            "23. Rouse him, and learn the principle of his activity or inactivity.\n",
            "Force him to reveal himself, so as to find out his vulnerable spots.\n",
            "\n",
            "24. Carefully compare the opposing army with your own, so that you may\n",
            "know where strength is superabundant and where it is deficient.\n",
            "\n",
            "25. In making tactical dispositions, the highest pitch you can attain\n",
            "is to conceal them; conceal your dispositions, and you will be safe\n",
            "from the prying of the subtlest spies, from the machinations of the\n",
            "wisest brains.\n",
            "\n",
            "26. How victory may be produced for them out of the enemy’s own\n",
            "tactics—that is what the multitude cannot comprehend.\n",
            "\n",
            "27. All men can see the tactics whereby I conquer, but what none can\n",
            "see is the strategy out of which victory is evolved.\n",
            "\n",
            "28. Do not repeat the tactics which have gained you one victory, but\n",
            "let your methods be regulated by the infinite variety of circumstances.\n",
            "\n",
            "29. Military tactics are like unto water; for water in its natural\n",
            "course runs away from high places and hastens downwards.\n",
            "\n",
            "30. So in war, the way is to avoid what is strong and to strike at what\n",
            "is weak.\n",
            "\n",
            "31. Water shapes its course according to the nature of the ground over\n",
            "which it flows; the soldier works out his victory in relation to the\n",
            "foe whom he is facing.\n",
            "\n",
            "32. Therefore, just as water retains no constant shape, so in warfare\n",
            "there are no constant conditions.\n",
            "\n",
            "33. He who can modify his tactics in relation to his opponent and\n",
            "thereby succeed in winning, may be called a heaven-born captain.\n",
            "\n",
            "34. The five elements (water, fire, wood, metal, earth) are not always\n",
            "equally predominant; the four seasons make way for each other in turn.\n",
            "There are short days and long; the moon has its periods of waning and\n",
            "waxing.\n",
            "\n",
            "1. Sun Tzŭ said: In war, the general receives his commands from the\n",
            "sovereign.\n",
            "\n",
            "2. Having collected an army and concentrated his forces, he must blend\n",
            "and harmonise the different elements thereof before pitching his camp.\n",
            "\n",
            "3. After that, comes tactical manœuvering, than which there is nothing\n",
            "more difficult. The difficulty of tactical manœuvering consists in\n",
            "turning the devious into the direct, and misfortune into gain.\n",
            "\n",
            "4. Thus, to take a long and circuitous route, after enticing the enemy\n",
            "out of the way, and though starting after him, to contrive to reach the\n",
            "goal before him, shows knowledge of the artifice of _deviation_.\n",
            "\n",
            "5. Manœuvering with an army is advantageous; with an undisciplined\n",
            "multitude, most dangerous.\n",
            "\n",
            "6. If you set a fully equipped army in march in order to snatch an\n",
            "advantage, the chances are that you will be too late. On the other\n",
            "hand, to detach a flying column for the purpose involves the sacrifice\n",
            "of its baggage and stores.\n",
            "\n",
            "7. Thus, if you order your men to roll up their buff-coats, and make\n",
            "forced marches without halting day or night, covering double the usual\n",
            "distance at a stretch, doing a hundred _li_ in order to wrest an\n",
            "advantage, the leaders of all your three divisions will fall into the\n",
            "hands of the enemy.\n",
            "\n",
            "8. The stronger men will be in front, the jaded ones will fall behind,\n",
            "and on this plan only one-tenth of your army will reach its\n",
            "destination.\n",
            "\n",
            "9. If you march fifty _li_ in order to outmanœuver the enemy, you will\n",
            "lose the leader of your first division, and only half your force will\n",
            "reach the goal.\n",
            "\n",
            "10. If you march thirty _li_ with the same object, two-thirds of your\n",
            "army will arrive.\n",
            "\n",
            "11. We may take it then that an army without its baggage-train is lost;\n",
            "without provisions it is lost; without bases of supply it is lost.\n",
            "\n",
            "12. We cannot enter into alliances until we are acquainted with the\n",
            "designs of our neighbours.\n",
            "\n",
            "13. We are not fit to lead an army on the march unless we are familiar\n",
            "with the face of the country—its mountains and forests, its pitfalls\n",
            "and precipices, its marshes and swamps.\n",
            "\n",
            "14. We shall be unable to turn natural advantages to account unless we\n",
            "make use of local guides.\n",
            "\n",
            "15. In war, practise dissimulation, and you will succeed. Move only if\n",
            "there is a real advantage to be gained.\n",
            "\n",
            "16. Whether to concentrate or to divide your troops, must be decided by\n",
            "circumstances.\n",
            "\n",
            "17. Let your rapidity be that of the wind, your compactness that of the\n",
            "forest.\n",
            "\n",
            "18. In raiding and plundering be like fire, in immovability like a\n",
            "mountain.\n",
            "\n",
            "19. Let your plans be dark and impenetrable as night, and when you\n",
            "move, fall like a thunderbolt.\n",
            "\n",
            "20. When you plunder a countryside, let the spoil be divided amongst\n",
            "your men; when you capture new territory, cut it up into allotments for\n",
            "the benefit of the soldiery.\n",
            "\n",
            "21. Ponder and deliberate before you make a move.\n",
            "\n",
            "22. He will conquer who has learnt the artifice of deviation. Such is\n",
            "the art of manœuvering.\n",
            "\n",
            "23. The Book of Army Management says: On the field of battle, the\n",
            "spoken word does not carry far enough: hence the institution of gongs\n",
            "and drums. Nor can ordinary objects be seen clearly enough: hence the\n",
            "institution of banners and flags.\n",
            "\n",
            "24. Gongs and drums, banners and flags, are means whereby the ears and\n",
            "eyes of the host may be focussed on one particular point.\n",
            "\n",
            "25. The host thus forming a single united body, is it impossible either\n",
            "for the brave to advance alone, or for the cowardly to retreat alone.\n",
            "This is the art of handling large masses of men.\n",
            "\n",
            "26. In night-fighting, then, make much use of signal-fires and drums,\n",
            "and in fighting by day, of flags and banners, as a means of influencing\n",
            "the ears and eyes of your army.\n",
            "\n",
            "27. A whole army may be robbed of its spirit; a commander-in-chief may\n",
            "be robbed of his presence of mind.\n",
            "\n",
            "28. Now a soldier’s spirit is keenest in the morning; by noonday it has\n",
            "begun to flag; and in the evening, his mind is bent only on returning\n",
            "to camp.\n",
            "\n",
            "29. A clever general, therefore, avoids an army when its spirit is\n",
            "keen, but attacks it when it is sluggish and inclined to return. This\n",
            "is the art of studying moods.\n",
            "\n",
            "30. Disciplined and calm, to await the appearance of disorder and\n",
            "hubbub amongst the enemy:—this is the art of retaining self-possession.\n",
            "\n",
            "31. To be near the goal while the enemy is still far from it, to wait\n",
            "at ease while the enemy is toiling and struggling, to be well-fed while\n",
            "the enemy is famished:—this is the art of husbanding one’s strength.\n",
            "\n",
            "32. To refrain from intercepting an enemy whose banners are in perfect\n",
            "order, to refrain from attacking an army drawn up in calm and confident\n",
            "array:—this is the art of studying circumstances.\n",
            "\n",
            "33. It is a military axiom not to advance uphill against the enemy, nor\n",
            "to oppose him when he comes downhill.\n",
            "\n",
            "34. Do not pursue an enemy who simulates flight; do not attack soldiers\n",
            "whose temper is keen.\n",
            "\n",
            "35. Do not swallow a bait offered by the enemy. Do not interfere with\n",
            "an army that is returning home.\n",
            "\n",
            "36. When you surround an army, leave an outlet free. Do not press a\n",
            "desperate foe too hard.\n",
            "\n",
            "37. Such is the art of warfare.\n",
            "\n",
            "1. Sun Tzŭ said: In war, the general receives his commands from the\n",
            "sovereign, collects his army and concentrates his forces.\n",
            "\n",
            "2. When in difficult country, do not encamp. In country where high\n",
            "roads intersect, join hands with your allies. Do not linger in\n",
            "dangerously isolated positions. In hemmed-in situations, you must\n",
            "resort to stratagem. In a desperate position, you must fight.\n",
            "\n",
            "3. There are roads which must not be followed, armies which must be not\n",
            "attacked, towns which must not be besieged, positions which must not be\n",
            "contested, commands of the sovereign which must not be obeyed.\n",
            "\n",
            "4. The general who thoroughly understands the advantages that accompany\n",
            "variation of tactics knows how to handle his troops.\n",
            "\n",
            "5. The general who does not understand these, may be well acquainted\n",
            "with the configuration of the country, yet he will not be able to turn\n",
            "his knowledge to practical account.\n",
            "\n",
            "6. So, the student of war who is unversed in the art of war of varying\n",
            "his plans, even though he be acquainted with the Five Advantages, will\n",
            "fail to make the best use of his men.\n",
            "\n",
            "7. Hence in the wise leader’s plans, considerations of advantage and of\n",
            "disadvantage will be blended together.\n",
            "\n",
            "8. If our expectation of advantage be tempered in this way, we may\n",
            "succeed in accomplishing the essential part of our schemes.\n",
            "\n",
            "9. If, on the other hand, in the midst of difficulties we are always\n",
            "ready to seize an advantage, we may extricate ourselves from\n",
            "misfortune.\n",
            "\n",
            "10. Reduce the hostile chiefs by inflicting damage on them; and make\n",
            "trouble for them, and keep them constantly engaged; hold out specious\n",
            "allurements, and make them rush to any given point.\n",
            "\n",
            "11. The art of war teaches us to rely not on the likelihood of the\n",
            "enemy’s not coming, but on our own readiness to receive him; not on the\n",
            "chance of his not attacking, but rather on the fact that we have made\n",
            "our position unassailable.\n",
            "\n",
            "12. There are five dangerous faults which may affect a general:\n",
            "(1) Recklessness, which leads to destruction;\n",
            "(2) cowardice, which leads to capture;\n",
            "(3) a hasty temper, which can be provoked by insults;\n",
            "(4) a delicacy of honour which is sensitive to shame;\n",
            "(5) over-solicitude for his men, which exposes him to worry and\n",
            "trouble.\n",
            "\n",
            "13. These are the five besetting sins of a general, ruinous to the\n",
            "conduct of war.\n",
            "\n",
            "14. When an army is overthrown and its leader slain, the cause will\n",
            "surely be found among these five dangerous faults. Let them be a\n",
            "subject of meditation.\n",
            "\n",
            "1. Sun Tzŭ said: We come now to the question of encamping the army, and\n",
            "observing signs of the enemy. Pass quickly over mountains, and keep in\n",
            "the neighbourhood of valleys.\n",
            "\n",
            "2. Camp in high places, facing the sun. Do not climb heights in order\n",
            "to fight. So much for mountain warfare.\n",
            "\n",
            "3. After crossing a river, you should get far away from it.\n",
            "\n",
            "4. When an invading force crosses a river in its onward march, do not\n",
            "advance to meet it in mid-stream. It will be best to let half the army\n",
            "get across, and then deliver your attack.\n",
            "\n",
            "5. If you are anxious to fight, you should not go to meet the invader\n",
            "near a river which he has to cross.\n",
            "\n",
            "6. Moor your craft higher up than the enemy, and facing the sun. Do not\n",
            "move up-stream to meet the enemy. So much for river warfare.\n",
            "\n",
            "7. In crossing salt-marshes, your sole concern should be to get over\n",
            "them quickly, without any delay.\n",
            "\n",
            "8. If forced to fight in a salt-marsh, you should have water and grass\n",
            "near you, and get your back to a clump of trees. So much for operations\n",
            "in salt-marshes.\n",
            "\n",
            "9. In dry, level country, take up an easily accessible position with\n",
            "rising ground to your right and on your rear, so that the danger may be\n",
            "in front, and safety lie behind. So much for campaigning in flat\n",
            "country.\n",
            "\n",
            "10. These are the four useful branches of military knowledge which\n",
            "enabled the Yellow Emperor to vanquish four several sovereigns.\n",
            "\n",
            "11. All armies prefer high ground to low, and sunny places to dark.\n",
            "\n",
            "12. If you are careful of your men, and camp on hard ground, the army\n",
            "will be free from disease of every kind, and this will spell victory.\n",
            "\n",
            "13. When you come to a hill or a bank, occupy the sunny side, with the\n",
            "slope on your right rear. Thus you will at once act for the benefit of\n",
            "your soldiers and utilise the natural advantages of the ground.\n",
            "\n",
            "14. When, in consequence of heavy rains up-country, a river which you\n",
            "wish to ford is swollen and flecked with foam, you must wait until it\n",
            "subsides.\n",
            "\n",
            "15. Country in which there are precipitous cliffs with torrents running\n",
            "between, deep natural hollows, confined places, tangled thickets,\n",
            "quagmires and crevasses, should be left with all possible speed and not\n",
            "approached.\n",
            "\n",
            "16. While we keep away from such places, we should get the enemy to\n",
            "approach them; while we face them, we should let the enemy have them on\n",
            "his rear.\n",
            "\n",
            "17. If in the neighbourhood of your camp there should be any hilly\n",
            "country, ponds surrounded by aquatic grass, hollow basins filled with\n",
            "reeds, or woods with thick undergrowth, they must be carefully routed\n",
            "out and searched; for these are places where men in ambush or insidious\n",
            "spies are likely to be lurking.\n",
            "\n",
            "18. When the enemy is close at hand and remains quiet, he is relying on\n",
            "the natural strength of his position.\n",
            "\n",
            "19. When he keeps aloof and tries to provoke a battle, he is anxious\n",
            "for the other side to advance.\n",
            "\n",
            "20. If his place of encampment is easy of access, he is tendering a\n",
            "bait.\n",
            "\n",
            "21. Movement amongst the trees of a forest shows that the enemy is\n",
            "advancing. The appearance of a number of screens in the midst of thick\n",
            "grass means that the enemy wants to make us suspicious.\n",
            "\n",
            "22. The rising of birds in their flight is the sign of an ambuscade.\n",
            "Startled beasts indicate that a sudden attack is coming.\n",
            "\n",
            "23. When there is dust rising in a high column, it is the sign of\n",
            "chariots advancing; when the dust is low, but spread over a wide area,\n",
            "it betokens the approach of infantry. When it branches out in different\n",
            "directions, it shows that parties have been sent to collect firewood. A\n",
            "few clouds of dust moving to and fro signify that the army is\n",
            "encamping.\n",
            "\n",
            "24. Humble words and increased preparations are signs that the enemy is\n",
            "about to advance. Violent language and driving forward as if to the\n",
            "attack are signs that he will retreat.\n",
            "\n",
            "25. When the light chariots come out first and take up a position on\n",
            "the wings, it is a sign that the enemy is forming for battle.\n",
            "\n",
            "26. Peace proposals unaccompanied by a sworn covenant indicate a plot.\n",
            "\n",
            "27. When there is much running about and the soldiers fall into rank,\n",
            "it means that the critical moment has come.\n",
            "\n",
            "28. When some are seen advancing and some retreating, it is a lure.\n",
            "\n",
            "29. When the soldiers stand leaning on their spears, they are faint\n",
            "from want of food.\n",
            "\n",
            "30. If those who are sent to draw water begin by drinking themselves,\n",
            "the army is suffering from thirst.\n",
            "\n",
            "31. If the enemy sees an advantage to be gained and makes no effort to\n",
            "secure it, the soldiers are exhausted.\n",
            "\n",
            "32. If birds gather on any spot, it is unoccupied. Clamour by night\n",
            "betokens nervousness.\n",
            "\n",
            "33. If there is disturbance in the camp, the general’s authority is\n",
            "weak. If the banners and flags are shifted about, sedition is afoot. If\n",
            "the officers are angry, it means that the men are weary.\n",
            "\n",
            "34. When an army feeds its horses with grain and kills its cattle for\n",
            "food, and when the men do not hang their cooking-pots over the\n",
            "camp-fires, showing that they will not return to their tents, you may\n",
            "know that they are determined to fight to the death.\n",
            "\n",
            "35. The sight of men whispering together in small knots or speaking in\n",
            "subdued tones points to disaffection amongst the rank and file.\n",
            "\n",
            "36. Too frequent rewards signify that the enemy is at the end of his\n",
            "resources; too many punishments betray a condition of dire distress.\n",
            "\n",
            "37. To begin by bluster, but afterwards to take fright at the enemy’s\n",
            "numbers, shows a supreme lack of intelligence.\n",
            "\n",
            "38. When envoys are sent with compliments in their mouths, it is a sign\n",
            "that the enemy wishes for a truce.\n",
            "\n",
            "39. If the enemy’s troops march up angrily and remain facing ours for a\n",
            "long time without either joining battle or taking themselves off again,\n",
            "the situation is one that demands great vigilance and circumspection.\n",
            "\n",
            "40. If our troops are no more in number than the enemy, that is amply\n",
            "sufficient; it only means that no direct attack can be made. What we\n",
            "can do is simply to concentrate all our available strength, keep a\n",
            "close watch on the enemy, and obtain reinforcements.\n",
            "\n",
            "41. He who exercises no forethought but makes light of his opponents is\n",
            "sure to be captured by them.\n",
            "\n",
            "42. If soldiers are punished before they have grown attached to you,\n",
            "they will not prove submissive; and, unless submissive, then will be\n",
            "practically useless. If, when the soldiers have become attached to you,\n",
            "punishments are not enforced, they will still be useless.\n",
            "\n",
            "43. Therefore soldiers must be treated in the first instance with\n",
            "humanity, but kept under control by means of iron discipline. This is a\n",
            "certain road to victory.\n",
            "\n",
            "44. If in training soldiers commands are habitually enforced, the army\n",
            "will be well-disciplined; if not, its discipline will be bad.\n",
            "\n",
            "45. If a general shows confidence in his men but always insists on his\n",
            "orders being obeyed, the gain will be mutual.\n",
            "\n",
            "1. Sun Tzŭ said: We may distinguish six kinds of terrain, to wit: (1)\n",
            "Accessible ground; (2) entangling ground; (3) temporising ground; (4)\n",
            "narrow passes; (5) precipitous heights; (6) positions at a great\n",
            "distance from the enemy.\n",
            "\n",
            "2. Ground which can be freely traversed by both sides is called\n",
            "_accessible_.\n",
            "\n",
            "3. With regard to ground of this nature, be before the enemy in\n",
            "occupying the raised and sunny spots, and carefully guard your line of\n",
            "supplies. Then you will be able to fight with advantage.\n",
            "\n",
            "4. Ground which can be abandoned but is hard to re-occupy is called\n",
            "_entangling_.\n",
            "\n",
            "5. From a position of this sort, if the enemy is unprepared, you may\n",
            "sally forth and defeat him. But if the enemy is prepared for your\n",
            "coming, and you fail to defeat him, then, return being impossible,\n",
            "disaster will ensue.\n",
            "\n",
            "6. When the position is such that neither side will gain by making the\n",
            "first move, it is called temporising ground.\n",
            "\n",
            "7. In a position of this sort, even though the enemy should offer us an\n",
            "attractive bait, it will be advisable not to stir forth, but rather to\n",
            "retreat, thus enticing the enemy in his turn; then, when part of his\n",
            "army has come out, we may deliver our attack with advantage.\n",
            "\n",
            "8. With regard to _narrow passes_, if you can occupy them first, let\n",
            "them be strongly garrisoned and await the advent of the enemy.\n",
            "\n",
            "9. Should the enemy forestall you in occupying a pass, do not go after\n",
            "him if the pass is fully garrisoned, but only if it is weakly\n",
            "garrisoned.\n",
            "\n",
            "10. With regard to _precipitous heights_, if you are beforehand with\n",
            "your adversary, you should occupy the raised and sunny spots, and there\n",
            "wait for him to come up.\n",
            "\n",
            "11. If the enemy has occupied them before you, do not follow him, but\n",
            "retreat and try to entice him away.\n",
            "\n",
            "12. If you are situated at a great distance from the enemy, and the\n",
            "strength of the two armies is equal, it is not easy to provoke a\n",
            "battle, and fighting will be to your disadvantage.\n",
            "\n",
            "13. These six are the principles connected with Earth. The general who\n",
            "has attained a responsible post must be careful to study them.\n",
            "\n",
            "14. Now an army is exposed to six several calamities, not arising from\n",
            "natural causes, but from faults for which the general is responsible.\n",
            "These are: (1) Flight; (2) insubordination; (3) collapse; (4) ruin; (5)\n",
            "disorganisation; (6) rout.\n",
            "\n",
            "15. Other conditions being equal, if one force is hurled against\n",
            "another ten times its size, the result will be the _flight_ of the\n",
            "former.\n",
            "\n",
            "16. When the common soldiers are too strong and their officers too\n",
            "weak, the result is _insubordination_. When the officers are too strong\n",
            "and the common soldiers too weak, the result is _collapse_.\n",
            "\n",
            "17. When the higher officers are angry and insubordinate, and on\n",
            "meeting the enemy give battle on their own account from a feeling of\n",
            "resentment, before the commander-in-chief can tell whether or no he is\n",
            "in a position to fight, the result is _ruin_.\n",
            "\n",
            "18. When the general is weak and without authority; when his orders are\n",
            "not clear and distinct; when there are no fixed duties assigned to\n",
            "officers and men, and the ranks are formed in a slovenly haphazard\n",
            "manner, the result is utter _disorganisation_.\n",
            "\n",
            "19. When a general, unable to estimate the enemy’s strength, allows an\n",
            "inferior force to engage a larger one, or hurls a weak detachment\n",
            "against a powerful one, and neglects to place picked soldiers in the\n",
            "front rank, the result must be a _rout_.\n",
            "\n",
            "20. These are six ways of courting defeat, which must be carefully\n",
            "noted by the general who has attained a responsible post.\n",
            "\n",
            "21. The natural formation of the country is the soldier’s best ally;\n",
            "but a power of estimating the adversary, of controlling the forces of\n",
            "victory, and of shrewdly calculating difficulties, dangers and\n",
            "distances, constitutes the test of a great general.\n",
            "\n",
            "22. He who knows these things, and in fighting puts his knowledge into\n",
            "practice, will win his battles. He who knows them not, nor practises\n",
            "them, will surely be defeated.\n",
            "\n",
            "23. If fighting is sure to result in victory, then you must fight, even\n",
            "though the ruler forbid it; if fighting will not result in victory,\n",
            "then you must not fight even at the ruler’s bidding.\n",
            "\n",
            "24. The general who advances without coveting fame and retreats without\n",
            "fearing disgrace, whose only thought is to protect his country and do\n",
            "good service for his sovereign, is the jewel of the kingdom.\n",
            "\n",
            "25. Regard your soldiers as your children, and they will follow you\n",
            "into the deepest valleys; look on them as your own beloved sons, and\n",
            "they will stand by you even unto death.\n",
            "\n",
            "26. If, however, you are indulgent, but unable to make your authority\n",
            "felt; kind-hearted, but unable to enforce your commands; and incapable,\n",
            "moreover, of quelling disorder: then your soldiers must be likened to\n",
            "spoilt children; they are useless for any practical purpose.\n",
            "\n",
            "27. If we know that our own men are in a condition to attack, but are\n",
            "unaware that the enemy is not open to attack, we have gone only halfway\n",
            "towards victory.\n",
            "\n",
            "28. If we know that the enemy is open to attack, but are unaware that\n",
            "our own men are not in a condition to attack, we have gone only halfway\n",
            "towards victory.\n",
            "\n",
            "29. If we know that the enemy is open to attack, and also know that our\n",
            "men are in a condition to attack, but are unaware that the nature of\n",
            "the ground makes fighting impracticable, we have still gone only\n",
            "halfway towards victory.\n",
            "\n",
            "30. Hence the experienced soldier, once in motion, is never bewildered;\n",
            "once he has broken camp, he is never at a loss.\n",
            "\n",
            "31. Hence the saying: If you know the enemy and know yourself, your\n",
            "victory will not stand in doubt; if you know Heaven and know Earth, you\n",
            "may make your victory complete.\n",
            "\n",
            "1. Sun Tzŭ said: The art of war recognises nine varieties of ground:\n",
            "(1) Dispersive ground; (2) facile ground; (3) contentious ground; (4)\n",
            "open ground; (5) ground of intersecting highways; (6) serious ground;\n",
            "(7) difficult ground; (8) hemmed-in ground; (9) desperate ground.\n",
            "\n",
            "2. When a chieftain is fighting in his own territory, it is dispersive\n",
            "ground.\n",
            "\n",
            "3. When he has penetrated into hostile territory, but to no great\n",
            "distance, it is facile ground.\n",
            "\n",
            "4. Ground the possession of which imports great advantage to either\n",
            "side, is contentious ground.\n",
            "\n",
            "5. Ground on which each side has liberty of movement is open ground.\n",
            "\n",
            "6. Ground which forms the key to three contiguous states, so that he\n",
            "who occupies it first has most of the Empire at his command, is ground\n",
            "of intersecting highways.\n",
            "\n",
            "7. When an army has penetrated into the heart of a hostile country,\n",
            "leaving a number of fortified cities in its rear, it is serious ground.\n",
            "\n",
            "8. Mountain forests, rugged steeps, marshes and fens—all country that\n",
            "is hard to traverse: this is difficult ground.\n",
            "\n",
            "9. Ground which is reached through narrow gorges, and from which we can\n",
            "only retire by tortuous paths, so that a small number of the enemy\n",
            "would suffice to crush a large body of our men: this is hemmed in\n",
            "ground.\n",
            "\n",
            "10. Ground on which we can only be saved from destruction by fighting\n",
            "without delay, is desperate ground.\n",
            "\n",
            "11. On dispersive ground, therefore, fight not. On facile ground, halt\n",
            "not. On contentious ground, attack not.\n",
            "\n",
            "12. On open ground, do not try to block the enemy’s way. On ground of\n",
            "intersecting highways, join hands with your allies.\n",
            "\n",
            "13. On serious ground, gather in plunder. In difficult ground, keep\n",
            "steadily on the march.\n",
            "\n",
            "14. On hemmed-in ground, resort to stratagem. On desperate ground,\n",
            "fight.\n",
            "\n",
            "15. Those who were called skilful leaders of old knew how to drive a\n",
            "wedge between the enemy’s front and rear; to prevent co-operation\n",
            "between his large and small divisions; to hinder the good troops from\n",
            "rescuing the bad, the officers from rallying their men.\n",
            "\n",
            "16. When the enemy’s men were scattered, they prevented them from\n",
            "concentrating; even when their forces were united, they managed to keep\n",
            "them in disorder.\n",
            "\n",
            "17. When it was to their advantage, they made a forward move; when\n",
            "otherwise, they stopped still.\n",
            "\n",
            "18. If asked how to cope with a great host of the enemy in orderly\n",
            "array and on the point of marching to the attack, I should say: “Begin\n",
            "by seizing something which your opponent holds dear; then he will be\n",
            "amenable to your will.”\n",
            "\n",
            "19. Rapidity is the essence of war: take advantage of the enemy’s\n",
            "unreadiness, make your way by unexpected routes, and attack unguarded\n",
            "spots.\n",
            "\n",
            "20. The following are the principles to be observed by an invading\n",
            "force: The further you penetrate into a country, the greater will be\n",
            "the solidarity of your troops, and thus the defenders will not prevail\n",
            "against you.\n",
            "\n",
            "21. Make forays in fertile country in order to supply your army with\n",
            "food.\n",
            "\n",
            "22. Carefully study the well-being of your men, and do not overtax\n",
            "them. Concentrate your energy and hoard your strength. Keep your army\n",
            "continually on the move, and devise unfathomable plans.\n",
            "\n",
            "23. Throw your soldiers into positions whence there is no escape, and\n",
            "they will prefer death to flight. If they will face death, there is\n",
            "nothing they may not achieve. Officers and men alike will put forth\n",
            "their uttermost strength.\n",
            "\n",
            "24. Soldiers when in desperate straits lose the sense of fear. If there\n",
            "is no place of refuge, they will stand firm. If they are in the heart\n",
            "of a hostile country, they will show a stubborn front. If there is no\n",
            "help for it, they will fight hard.\n",
            "\n",
            "25. Thus, without waiting to be marshalled, the soldiers will be\n",
            "constantly on the _qui vive;_ without waiting to be asked, they will do\n",
            "your will; without restrictions, they will be faithful; without giving\n",
            "orders, they can be trusted.\n",
            "\n",
            "26. Prohibit the taking of omens, and do away with superstitious\n",
            "doubts. Then, until death itself comes, no calamity need be feared.\n",
            "\n",
            "27. If our soldiers are not overburdened with money, it is not because\n",
            "they have a distaste for riches; if their lives are not unduly long, it\n",
            "is not because they are disinclined to longevity.\n",
            "\n",
            "28. On the day they are ordered out to battle, your soldiers may weep,\n",
            "those sitting up bedewing their garments, and those lying down letting\n",
            "the tears run down their cheeks. But let them once be brought to bay,\n",
            "and they will display the courage of a Chu or a Kuei.\n",
            "\n",
            "29. The skilful tactician may be likened to the _shuai-jan_. Now the\n",
            "_shuai-jan_ is a snake that is found in the Ch‘ang mountains. Strike at\n",
            "its head, and you will be attacked by its tail; strike at its tail, and\n",
            "you will be attacked by its head; strike at its middle, and you will be\n",
            "attacked by head and tail both.\n",
            "\n",
            "30. Asked if an army can be made to imitate the _shuai-jan_, I should\n",
            "answer, Yes. For the men of Wu and the men of Yüeh are enemies; yet if\n",
            "they are crossing a river in the same boat and are caught by a storm,\n",
            "they will come to each other’s assistance just as the left hand helps\n",
            "the right.\n",
            "\n",
            "31. Hence it is not enough to put one’s trust in the tethering of\n",
            "horses, and the burying of chariot wheels in the ground.\n",
            "\n",
            "32. The principle on which to manage an army is to set up one standard\n",
            "of courage which all must reach.\n",
            "\n",
            "33. How to make the best of both strong and weak—that is a question\n",
            "involving the proper use of ground.\n",
            "\n",
            "34. Thus the skilful general conducts his army just as though he were\n",
            "leading a single man, willy-nilly, by the hand.\n",
            "\n",
            "35. It is the business of a general to be quiet and thus ensure\n",
            "secrecy; upright and just, and thus maintain order.\n",
            "\n",
            "36. He must be able to mystify his officers and men by false reports\n",
            "and appearances, and thus keep them in total ignorance.\n",
            "\n",
            "37. By altering his arrangements and changing his plans, he keeps the\n",
            "enemy without definite knowledge. By shifting his camp and taking\n",
            "circuitous routes, he prevents the enemy from anticipating his purpose.\n",
            "\n",
            "38. At the critical moment, the leader of an army acts like one who has\n",
            "climbed up a height and then kicks away the ladder behind him. He\n",
            "carries his men deep into hostile territory before he shows his hand.\n",
            "\n",
            "39. He burns his boats and breaks his cooking-pots; like a shepherd\n",
            "driving a flock of sheep, he drives his men this way and that, and none\n",
            "knows whither he is going.\n",
            "\n",
            "40. To muster his host and bring it into danger:—this may be termed the\n",
            "business of the general.\n",
            "\n",
            "41. The different measures suited to the nine varieties of ground; the\n",
            "expediency of aggressive or defensive tactics; and the fundamental laws\n",
            "of human nature: these are things that must most certainly be studied.\n",
            "\n",
            "42. When invading hostile territory, the general principle is, that\n",
            "penetrating deeply brings cohesion; penetrating but a short way means\n",
            "dispersion.\n",
            "\n",
            "43. When you leave your own country behind, and take your army across\n",
            "neighbourhood territory, you find yourself on critical ground. When\n",
            "there are means of communication on all four sides, the ground is one\n",
            "of intersecting highways.\n",
            "\n",
            "44. When you penetrate deeply into a country, it is serious ground.\n",
            "When you penetrate but a little way, it is facile ground.\n",
            "\n",
            "45. When you have the enemy’s strongholds on your rear, and narrow\n",
            "passes in front, it is hemmed-in ground. When there is no place of\n",
            "refuge at all, it is desperate ground.\n",
            "\n",
            "46. Therefore, on dispersive ground, I would inspire my men with unity\n",
            "of purpose. On facile ground, I would see that there is close\n",
            "connection between all parts of my army.\n",
            "\n",
            "47. On contentious ground, I would hurry up my rear.\n",
            "\n",
            "48. On open ground, I would keep a vigilant eye on my defences. On\n",
            "ground of intersecting highways, I would consolidate my alliances.\n",
            "\n",
            "49. On serious ground, I would try to ensure a continuous stream of\n",
            "supplies. On difficult ground, I would keep pushing on along the road.\n",
            "\n",
            "50. On hemmed-in ground, I would block any way of retreat. On desperate\n",
            "ground, I would proclaim to my soldiers the hopelessness of saving\n",
            "their lives.\n",
            "\n",
            "51. For it is the soldier’s disposition to offer an obstinate\n",
            "resistance when surrounded, to fight hard when he cannot help himself,\n",
            "and to obey promptly when he has fallen into danger.\n",
            "\n",
            "52. We cannot enter into alliance with neighbouring princes until we\n",
            "are acquainted with their designs. We are not fit to lead an army on\n",
            "the march unless we are familiar with the face of the country—its\n",
            "mountains and forests, its pitfalls and precipices, its marshes and\n",
            "swamps. We shall be unable to turn natural advantages to account unless\n",
            "we make use of local guides.\n",
            "\n",
            "53. To be ignorant of any one of the following four or five principles\n",
            "does not befit a warlike prince.\n",
            "\n",
            "54. When a warlike prince attacks a powerful state, his generalship\n",
            "shows itself in preventing the concentration of the enemy’s forces. He\n",
            "overawes his opponents, and their allies are prevented from joining\n",
            "against him.\n",
            "\n",
            "55. Hence he does not strive to ally himself with all and sundry, nor\n",
            "does he foster the power of other states. He carries out his own secret\n",
            "designs, keeping his antagonists in awe. Thus he is able to capture\n",
            "their cities and overthrow their kingdoms.\n",
            "\n",
            "56. Bestow rewards without regard to rule, issue orders without regard\n",
            "to previous arrangements; and you will be able to handle a whole army\n",
            "as though you had to do with but a single man.\n",
            "\n",
            "57. Confront your soldiers with the deed itself; never let them know\n",
            "your design. When the outlook is bright, bring it before their eyes;\n",
            "but tell them nothing when the situation is gloomy.\n",
            "\n",
            "58. Place your army in deadly peril, and it will survive; plunge it\n",
            "into desperate straits, and it will come off in safety.\n",
            "\n",
            "59. For it is precisely when a force has fallen into harm’s way that is\n",
            "capable of striking a blow for victory.\n",
            "\n",
            "60. Success in warfare is gained by carefully accommodating ourselves\n",
            "to the enemy’s purpose.\n",
            "\n",
            "61. By persistently hanging on the enemy’s flank, we shall succeed in\n",
            "the long run in killing the commander-in-chief.\n",
            "\n",
            "62. This is called ability to accomplish a thing by sheer cunning.\n",
            "\n",
            "63. On the day that you take up your command, block the frontier\n",
            "passes, destroy the official tallies, and stop the passage of all\n",
            "emissaries.\n",
            "\n",
            "64. Be stern in the council-chamber, so that you may control the\n",
            "situation.\n",
            "\n",
            "65. If the enemy leaves a door open, you must rush in.\n",
            "\n",
            "66. Forestall your opponent by seizing what he holds dear, and subtly\n",
            "contrive to time his arrival on the ground.\n",
            "\n",
            "67. Walk in the path defined by rule, and accommodate yourself to the\n",
            "enemy until you can fight a decisive battle.\n",
            "\n",
            "68. At first, then, exhibit the coyness of a maiden, until the enemy\n",
            "gives you an opening; afterwards emulate the rapidity of a running\n",
            "hare, and it will be too late for the enemy to oppose you.\n",
            "\n",
            "1. Sun Tzŭ said: There are five ways of attacking with fire. The first\n",
            "is to burn soldiers in their camp; the second is to burn stores; the\n",
            "third is to burn baggage-trains; the fourth is to burn arsenals and\n",
            "magazines; the fifth is to hurl dropping fire amongst the enemy.\n",
            "\n",
            "2. In order to carry out an attack, we must have means available. The\n",
            "material for raising fire should always be kept in readiness.\n",
            "\n",
            "3. There is a proper season for making attacks with fire, and special\n",
            "days for starting a conflagration.\n",
            "\n",
            "4. The proper season is when the weather is very dry; the special days\n",
            "are those when the moon is in the constellations of the Sieve, the\n",
            "Wall, the Wing or the Cross-bar; for these four are all days of rising\n",
            "wind.\n",
            "\n",
            "5. In attacking with fire, one should be prepared to meet five possible\n",
            "developments:\n",
            "\n",
            "6. (1) When fire breaks out inside the enemy’s camp, respond at once\n",
            "with an attack from without.\n",
            "\n",
            "7. (2) If there is an outbreak of fire, but the enemy’s soldiers remain\n",
            "quiet, bide your time and do not attack.\n",
            "\n",
            "8. (3) When the force of the flames has reached its height, follow it\n",
            "up with an attack, if that is practicable; if not, stay where you are.\n",
            "\n",
            "9. (4) If it is possible to make an assault with fire from without, do\n",
            "not wait for it to break out within, but deliver your attack at a\n",
            "favourable moment.\n",
            "\n",
            "10. (5) When you start a fire, be to windward of it. Do not attack from\n",
            "the leeward.\n",
            "\n",
            "11. A wind that rises in the daytime lasts long, but a night breeze\n",
            "soon falls.\n",
            "\n",
            "12. In every army, the five developments connected with fire must be\n",
            "known, the movements of the stars calculated, and a watch kept for the\n",
            "proper days.\n",
            "\n",
            "13. Hence those who use fire as an aid to the attack show intelligence;\n",
            "those who use water as an aid to the attack gain an accession of\n",
            "strength.\n",
            "\n",
            "14. By means of water, an enemy may be intercepted, but not robbed of\n",
            "all his belongings.\n",
            "\n",
            "15. Unhappy is the fate of one who tries to win his battles and succeed\n",
            "in his attacks without cultivating the spirit of enterprise; for the\n",
            "result is waste of time and general stagnation.\n",
            "\n",
            "16. Hence the saying: The enlightened ruler lays his plans well ahead;\n",
            "the good general cultivates his resources.\n",
            "\n",
            "17. Move not unless you see an advantage; use not your troops unless\n",
            "there is something to be gained; fight not unless the position is\n",
            "critical.\n",
            "\n",
            "18. No ruler should put troops into the field merely to gratify his own\n",
            "spleen; no general should fight a battle simply out of pique.\n",
            "\n",
            "19. If it is to your advantage, make a forward move; if not, stay where\n",
            "you are.\n",
            "\n",
            "20. Anger may in time change to gladness; vexation may be succeeded by\n",
            "content.\n",
            "\n",
            "21. But a kingdom that has once been destroyed can never come again\n",
            "into being; nor can the dead ever be brought back to life.\n",
            "\n",
            "22. Hence the enlightened ruler is heedful, and the good general full\n",
            "of caution. This is the way to keep a country at peace and an army\n",
            "intact.\n",
            "\n",
            "1. Sun Tzŭ said: Raising a host of a hundred thousand men and marching\n",
            "them great distances entails heavy loss on the people and a drain on\n",
            "the resources of the State. The daily expenditure will amount to a\n",
            "thousand ounces of silver. There will be commotion at home and abroad,\n",
            "and men will drop down exhausted on the highways. As many as seven\n",
            "hundred thousand families will be impeded in their labor.\n",
            "\n",
            "2. Hostile armies may face each other for years, striving for the\n",
            "victory which is decided in a single day. This being so, to remain in\n",
            "ignorance of the enemy’s condition simply because one grudges the\n",
            "outlay of a hundred ounces of silver in honours and emoluments, is the\n",
            "height of inhumanity.\n",
            "\n",
            "3. One who acts thus is no leader of men, no present help to his\n",
            "sovereign, no master of victory.\n",
            "\n",
            "4. Thus, what enables the wise sovereign and the good general to strike\n",
            "and conquer, and achieve things beyond the reach of ordinary men, is\n",
            "_foreknowledge_.\n",
            "\n",
            "5. Now this foreknowledge cannot be elicited from spirits; it cannot be\n",
            "obtained inductively from experience, nor by any deductive calculation.\n",
            "\n",
            "6. Knowledge of the enemy’s dispositions can only be obtained from\n",
            "other men.\n",
            "\n",
            "7. Hence the use of spies, of whom there are five classes: (1) Local\n",
            "spies; (2) inward spies; (3) converted spies; (4) doomed spies; (5)\n",
            "surviving spies.\n",
            "\n",
            "8. When these five kinds of spy are all at work, none can discover the\n",
            "secret system. This is called “divine manipulation of the threads.” It\n",
            "is the sovereign’s most precious faculty.\n",
            "\n",
            "9. Having _local spies_ means employing the services of the inhabitants\n",
            "of a district.\n",
            "\n",
            "10. Having _inward spies_, making use of officials of the enemy.\n",
            "\n",
            "11. Having _converted spies_, getting hold of the enemy’s spies and\n",
            "using them for our own purposes.\n",
            "\n",
            "12. Having _doomed spies_, doing certain things openly for purposes of\n",
            "deception, and allowing our own spies to know of them and report them\n",
            "to the enemy.\n",
            "\n",
            "13. _Surviving spies_, finally, are those who bring back news from the\n",
            "enemy’s camp.\n",
            "\n",
            "14. Hence it is that with none in the whole army are more intimate\n",
            "relations to be maintained than with spies. None should be more\n",
            "liberally rewarded. In no other business should greater secrecy be\n",
            "preserved.\n",
            "\n",
            "15. Spies cannot be usefully employed without a certain intuitive\n",
            "sagacity.\n",
            "\n",
            "16. They cannot be properly managed without benevolence and\n",
            "straightforwardness.\n",
            "\n",
            "17. Without subtle ingenuity of mind, one cannot make certain of the\n",
            "truth of their reports.\n",
            "\n",
            "18. Be subtle! be subtle! and use your spies for every kind of\n",
            "business.\n",
            "\n",
            "19. If a secret piece of news is divulged by a spy before the time is\n",
            "ripe, he must be put to death together with the man to whom the secret\n",
            "was told.\n",
            "\n",
            "20. Whether the object be to crush an army, to storm a city, or to\n",
            "assassinate an individual, it is always necessary to begin by finding\n",
            "out the names of the attendants, the aides-de-camp, the door-keepers\n",
            "and sentries of the general in command. Our spies must be commissioned\n",
            "to ascertain these.\n",
            "\n",
            "21. The enemy’s spies who have come to spy on us must be sought out,\n",
            "tempted with bribes, led away and comfortably housed. Thus they will\n",
            "become converted spies and available for our service.\n",
            "\n",
            "22. It is through the information brought by the converted spy that we\n",
            "are able to acquire and employ local and inward spies.\n",
            "\n",
            "23. It is owing to his information, again, that we can cause the doomed\n",
            "spy to carry false tidings to the enemy.\n",
            "\n",
            "24. Lastly, it is by his information that the surviving spy can be used\n",
            "on appointed occasions.\n",
            "\n",
            "25. The end and aim of spying in all its five varieties is knowledge of\n",
            "the enemy; and this knowledge can only be derived, in the first\n",
            "instance, from the converted spy. Hence it is essential that the\n",
            "converted spy be treated with the utmost liberality.\n",
            "\n",
            "26. Of old, the rise of the Yin dynasty was due to I Chih who had\n",
            "served under the Hsia. Likewise, the rise of the Chou dynasty was due\n",
            "to Lü Ya who had served under the Yin.\n",
            "\n",
            "27. Hence it is only the enlightened ruler and the wise general who\n",
            "will use the highest intelligence of the army for purposes of spying\n",
            "and thereby they achieve great results. Spies are a most important\n",
            "element in war, because on them depends an army’s ability to move.\n",
            "\n"
          ]
        }
      ]
    },
    {
      "cell_type": "code",
      "source": [
        "art_of_war[:300]"
      ],
      "metadata": {
        "colab": {
          "base_uri": "https://localhost:8080/",
          "height": 89
        },
        "id": "mp2gpIW8QG3Y",
        "outputId": "92ded454-48d7-45ff-f984-d66ccccb6a56"
      },
      "execution_count": 8,
      "outputs": [
        {
          "output_type": "execute_result",
          "data": {
            "text/plain": [
              "'1. Sun Tzŭ said: The art of war is of vital importance to the State.\\n\\n2. It is a matter of life and death, a road either to safety or to\\nruin. Hence it is a subject of inquiry which can on no account be\\nneglected.\\n\\n3. The art of war, then, is governed by five constant factors, to be\\ntaken into accou'"
            ],
            "application/vnd.google.colaboratory.intrinsic+json": {
              "type": "string"
            }
          },
          "metadata": {},
          "execution_count": 8
        }
      ]
    },
    {
      "cell_type": "code",
      "source": [
        "tokenizer = keras.preprocessing.text.Tokenizer(char_level=True)"
      ],
      "metadata": {
        "id": "mWdTaZyDNe7G"
      },
      "execution_count": 9,
      "outputs": []
    },
    {
      "cell_type": "code",
      "source": [
        "tokenizer.fit_on_texts([art_of_war])"
      ],
      "metadata": {
        "id": "5K3Z3xiYNe-2"
      },
      "execution_count": 10,
      "outputs": []
    },
    {
      "cell_type": "markdown",
      "source": [
        "The tokenizer's internal dictionary now maps characters rather than words..."
      ],
      "metadata": {
        "id": "SYSjvX_-jxcg"
      }
    },
    {
      "cell_type": "code",
      "source": [
        "tokenizer.get_config()"
      ],
      "metadata": {
        "id": "DmrRyC8eNfCF",
        "colab": {
          "base_uri": "https://localhost:8080/"
        },
        "outputId": "989fafa1-46a2-48bd-e902-10aa5e3f376a"
      },
      "execution_count": 11,
      "outputs": [
        {
          "output_type": "execute_result",
          "data": {
            "text/plain": [
              "{'num_words': None,\n",
              " 'filters': '!\"#$%&()*+,-./:;<=>?@[\\\\]^_`{|}~\\t\\n',\n",
              " 'lower': True,\n",
              " 'split': ' ',\n",
              " 'char_level': True,\n",
              " 'oov_token': None,\n",
              " 'document_count': 1,\n",
              " 'word_counts': '{\"1\": 179, \".\": 896, \" \": 9794, \"s\": 3081, \"u\": 1467, \"n\": 3565, \"t\": 4398, \"z\": 20, \"\\\\u016d\": 13, \"a\": 3475, \"i\": 3573, \"d\": 1681, \":\": 48, \"h\": 2558, \"e\": 5837, \"r\": 2776, \"o\": 3548, \"f\": 1238, \"w\": 981, \"v\": 478, \"l\": 1722, \"m\": 1201, \"p\": 769, \"c\": 1390, \"\\\\n\": 1443, \"2\": 127, \",\": 634, \"y\": 1055, \"b\": 708, \"j\": 23, \"q\": 55, \"g\": 1007, \"3\": 87, \"k\": 345, \"\\\\u2019\": 57, \"4\": 66, \"(\": 59, \")\": 59, \";\": 168, \"5\": 58, \"6\": 51, \"_\": 62, \"7\": 39, \"8\": 36, \"9\": 34, \"0\": 38, \"x\": 49, \"\\\\u2014\": 16, \"?\": 8, \"!\": 8, \"-\": 57, \"\\\\u201c\": 3, \"\\\\u201d\": 3, \"\\\\u0153\": 7, \"\\\\u00fc\": 3, \"\\\\u2018\": 1}',\n",
              " 'word_docs': '{\".\": 1, \"i\": 1, \"8\": 1, \"3\": 1, \"b\": 1, \"1\": 1, \"h\": 1, \"7\": 1, \"c\": 1, \"t\": 1, \"5\": 1, \"x\": 1, \"\\\\u00fc\": 1, \"-\": 1, \"s\": 1, \"!\": 1, \"6\": 1, \";\": 1, \"_\": 1, \"z\": 1, \"r\": 1, \" \": 1, \"y\": 1, \"\\\\u2019\": 1, \"l\": 1, \"g\": 1, \"\\\\u2018\": 1, \"u\": 1, \"4\": 1, \"2\": 1, \":\": 1, \"9\": 1, \"n\": 1, \"\\\\n\": 1, \"m\": 1, \"k\": 1, \"f\": 1, \"\\\\u0153\": 1, \"o\": 1, \"w\": 1, \"v\": 1, \",\": 1, \"\\\\u2014\": 1, \"\\\\u201d\": 1, \"0\": 1, \"\\\\u201c\": 1, \"q\": 1, \"j\": 1, \"(\": 1, \"a\": 1, \"\\\\u016d\": 1, \"d\": 1, \"p\": 1, \"?\": 1, \"e\": 1, \")\": 1}',\n",
              " 'index_docs': '{\"21\": 1, \"4\": 1, \"44\": 1, \"30\": 1, \"23\": 1, \"27\": 1, \"10\": 1, \"42\": 1, \"15\": 1, \"3\": 1, \"35\": 1, \"40\": 1, \"55\": 1, \"37\": 1, \"8\": 1, \"51\": 1, \"39\": 1, \"28\": 1, \"32\": 1, \"47\": 1, \"9\": 1, \"1\": 1, \"18\": 1, \"36\": 1, \"11\": 1, \"19\": 1, \"56\": 1, \"13\": 1, \"31\": 1, \"29\": 1, \"41\": 1, \"45\": 1, \"5\": 1, \"14\": 1, \"17\": 1, \"26\": 1, \"16\": 1, \"52\": 1, \"6\": 1, \"20\": 1, \"25\": 1, \"24\": 1, \"48\": 1, \"54\": 1, \"43\": 1, \"53\": 1, \"38\": 1, \"46\": 1, \"33\": 1, \"7\": 1, \"49\": 1, \"12\": 1, \"22\": 1, \"50\": 1, \"2\": 1, \"34\": 1}',\n",
              " 'index_word': '{\"1\": \" \", \"2\": \"e\", \"3\": \"t\", \"4\": \"i\", \"5\": \"n\", \"6\": \"o\", \"7\": \"a\", \"8\": \"s\", \"9\": \"r\", \"10\": \"h\", \"11\": \"l\", \"12\": \"d\", \"13\": \"u\", \"14\": \"\\\\n\", \"15\": \"c\", \"16\": \"f\", \"17\": \"m\", \"18\": \"y\", \"19\": \"g\", \"20\": \"w\", \"21\": \".\", \"22\": \"p\", \"23\": \"b\", \"24\": \",\", \"25\": \"v\", \"26\": \"k\", \"27\": \"1\", \"28\": \";\", \"29\": \"2\", \"30\": \"3\", \"31\": \"4\", \"32\": \"_\", \"33\": \"(\", \"34\": \")\", \"35\": \"5\", \"36\": \"\\\\u2019\", \"37\": \"-\", \"38\": \"q\", \"39\": \"6\", \"40\": \"x\", \"41\": \":\", \"42\": \"7\", \"43\": \"0\", \"44\": \"8\", \"45\": \"9\", \"46\": \"j\", \"47\": \"z\", \"48\": \"\\\\u2014\", \"49\": \"\\\\u016d\", \"50\": \"?\", \"51\": \"!\", \"52\": \"\\\\u0153\", \"53\": \"\\\\u201c\", \"54\": \"\\\\u201d\", \"55\": \"\\\\u00fc\", \"56\": \"\\\\u2018\"}',\n",
              " 'word_index': '{\" \": 1, \"e\": 2, \"t\": 3, \"i\": 4, \"n\": 5, \"o\": 6, \"a\": 7, \"s\": 8, \"r\": 9, \"h\": 10, \"l\": 11, \"d\": 12, \"u\": 13, \"\\\\n\": 14, \"c\": 15, \"f\": 16, \"m\": 17, \"y\": 18, \"g\": 19, \"w\": 20, \".\": 21, \"p\": 22, \"b\": 23, \",\": 24, \"v\": 25, \"k\": 26, \"1\": 27, \";\": 28, \"2\": 29, \"3\": 30, \"4\": 31, \"_\": 32, \"(\": 33, \")\": 34, \"5\": 35, \"\\\\u2019\": 36, \"-\": 37, \"q\": 38, \"6\": 39, \"x\": 40, \":\": 41, \"7\": 42, \"0\": 43, \"8\": 44, \"9\": 45, \"j\": 46, \"z\": 47, \"\\\\u2014\": 48, \"\\\\u016d\": 49, \"?\": 50, \"!\": 51, \"\\\\u0153\": 52, \"\\\\u201c\": 53, \"\\\\u201d\": 54, \"\\\\u00fc\": 55, \"\\\\u2018\": 56}'}"
            ]
          },
          "metadata": {},
          "execution_count": 11
        }
      ]
    },
    {
      "cell_type": "markdown",
      "source": [
        "...and the resulting possibility space is much smaller."
      ],
      "metadata": {
        "id": "gk0m9YXhjw4q"
      }
    },
    {
      "cell_type": "code",
      "source": [
        "print(f\"Tokenizer \\\"Vocabulary\\\" size: {len(tokenizer.word_index)}\")"
      ],
      "metadata": {
        "id": "xYVGJN0ENfE9",
        "colab": {
          "base_uri": "https://localhost:8080/"
        },
        "outputId": "47e68f39-de19-4749-8f2f-df529fb5e94f"
      },
      "execution_count": 12,
      "outputs": [
        {
          "output_type": "stream",
          "name": "stdout",
          "text": [
            "Tokenizer \"Vocabulary\" size: 56\n"
          ]
        }
      ]
    },
    {
      "cell_type": "markdown",
      "source": [
        "As we did when building the PoS tagger, we'll vectorize the book's characters into a sequence of integers, each integer mapping to a particular character."
      ],
      "metadata": {
        "id": "nVihxn9hj8ri"
      }
    },
    {
      "cell_type": "code",
      "source": [
        "seq = tokenizer.texts_to_sequences([art_of_war])[0]"
      ],
      "metadata": {
        "id": "Z-ZpUDbnNfHm"
      },
      "execution_count": 13,
      "outputs": []
    },
    {
      "cell_type": "code",
      "source": [
        "print(f\"Text length: {len(seq)}\")"
      ],
      "metadata": {
        "id": "31omC4dINfKN",
        "colab": {
          "base_uri": "https://localhost:8080/"
        },
        "outputId": "ac958987-81e8-47d5-9117-b09ee5064d5a"
      },
      "execution_count": 14,
      "outputs": [
        {
          "output_type": "stream",
          "name": "stdout",
          "text": [
            "Text length: 61054\n"
          ]
        }
      ]
    },
    {
      "cell_type": "code",
      "source": [
        "# Sanity check.\n",
        "tokenizer.sequences_to_texts([seq[:10]])"
      ],
      "metadata": {
        "id": "6dSf6yi8yDSg",
        "colab": {
          "base_uri": "https://localhost:8080/"
        },
        "outputId": "26e9f7c8-745b-42ee-d5b4-3cdf2449affa"
      },
      "execution_count": 15,
      "outputs": [
        {
          "output_type": "execute_result",
          "data": {
            "text/plain": [
              "['1 .   s u n   t z ŭ']"
            ]
          },
          "metadata": {},
          "execution_count": 15
        }
      ]
    },
    {
      "cell_type": "code",
      "source": [
        "num_tokens = len(tokenizer.word_index) + 1\n",
        "num_tokens"
      ],
      "metadata": {
        "colab": {
          "base_uri": "https://localhost:8080/"
        },
        "id": "MvWUrMupKNc4",
        "outputId": "f821bba5-e584-4ff0-968d-28e2ebe6602a"
      },
      "execution_count": 16,
      "outputs": [
        {
          "output_type": "execute_result",
          "data": {
            "text/plain": [
              "57"
            ]
          },
          "metadata": {},
          "execution_count": 16
        }
      ]
    },
    {
      "cell_type": "code",
      "source": [
        "# Create input sequences\n",
        "input_timesteps = 100\n",
        "window_size = input_timesteps + 1"
      ],
      "metadata": {
        "id": "YAOB5Wt0KQjF"
      },
      "execution_count": 17,
      "outputs": []
    },
    {
      "cell_type": "markdown",
      "source": [
        "Here, we're creating windows of `input_timesteps + 1`. The *input_timesteps* represents our training example length. The *+1* is there to help us create the target/label for each training example. This will be clarified further below.<br><br>\n",
        "In addition, we're setting *shift* to 1. This means we'll get overlapping windows shifted by 1. e.g. if the input is [1, 2, 3, 4, ...]. The first window will contain [1, 2, 3, ...], the second window will contain [2, 3, 4, ...] and so on. This is so we can have more training examples.<br><br>\n",
        "Finally, we're setting *drop_remainder* to True which ensures ALL windows contain exactly N elements. i.e. once the input contains fewer than N elements, they are ignored."
      ],
      "metadata": {
        "id": "YPGcuQTQz7Mc"
      }
    },
    {
      "cell_type": "code",
      "source": [
        "# Create windows\n",
        "windows = []\n",
        "for i in range(len(seq) - window_size):\n",
        "    windows.append(seq[i:i + window_size])\n",
        "\n",
        "# Convert windows to tensor\n",
        "windows = torch.tensor(windows, dtype=torch.long)"
      ],
      "metadata": {
        "id": "WVYKufISKcaH"
      },
      "execution_count": 18,
      "outputs": []
    },
    {
      "cell_type": "markdown",
      "source": [
        "Looking at the first few windows, we can see they're all the same length and that each subsequent window is shifted over by 1. Our corpus has now been divided into segments of length `input_timesteps + 1`."
      ],
      "metadata": {
        "id": "_ZPxcG8W1_1y"
      }
    },
    {
      "cell_type": "code",
      "source": [
        "for i in range(3):\n",
        "    window = windows[i]\n",
        "    print(len(window), window.tolist())"
      ],
      "metadata": {
        "id": "m5yh94YQvHNk",
        "colab": {
          "base_uri": "https://localhost:8080/"
        },
        "outputId": "da33b2a0-c901-4897-d656-64b3a6edc869"
      },
      "execution_count": 19,
      "outputs": [
        {
          "output_type": "stream",
          "name": "stdout",
          "text": [
            "101 [27, 21, 1, 8, 13, 5, 1, 3, 47, 49, 1, 8, 7, 4, 12, 41, 1, 3, 10, 2, 1, 7, 9, 3, 1, 6, 16, 1, 20, 7, 9, 1, 4, 8, 1, 6, 16, 1, 25, 4, 3, 7, 11, 1, 4, 17, 22, 6, 9, 3, 7, 5, 15, 2, 1, 3, 6, 1, 3, 10, 2, 1, 8, 3, 7, 3, 2, 21, 14, 14, 29, 21, 1, 4, 3, 1, 4, 8, 1, 7, 1, 17, 7, 3, 3, 2, 9, 1, 6, 16, 1, 11, 4, 16, 2, 1, 7, 5, 12, 1, 12]\n",
            "101 [21, 1, 8, 13, 5, 1, 3, 47, 49, 1, 8, 7, 4, 12, 41, 1, 3, 10, 2, 1, 7, 9, 3, 1, 6, 16, 1, 20, 7, 9, 1, 4, 8, 1, 6, 16, 1, 25, 4, 3, 7, 11, 1, 4, 17, 22, 6, 9, 3, 7, 5, 15, 2, 1, 3, 6, 1, 3, 10, 2, 1, 8, 3, 7, 3, 2, 21, 14, 14, 29, 21, 1, 4, 3, 1, 4, 8, 1, 7, 1, 17, 7, 3, 3, 2, 9, 1, 6, 16, 1, 11, 4, 16, 2, 1, 7, 5, 12, 1, 12, 2]\n",
            "101 [1, 8, 13, 5, 1, 3, 47, 49, 1, 8, 7, 4, 12, 41, 1, 3, 10, 2, 1, 7, 9, 3, 1, 6, 16, 1, 20, 7, 9, 1, 4, 8, 1, 6, 16, 1, 25, 4, 3, 7, 11, 1, 4, 17, 22, 6, 9, 3, 7, 5, 15, 2, 1, 3, 6, 1, 3, 10, 2, 1, 8, 3, 7, 3, 2, 21, 14, 14, 29, 21, 1, 4, 3, 1, 4, 8, 1, 7, 1, 17, 7, 3, 3, 2, 9, 1, 6, 16, 1, 11, 4, 16, 2, 1, 7, 5, 12, 1, 12, 2, 7]\n"
          ]
        }
      ]
    },
    {
      "cell_type": "markdown",
      "source": [
        "The *window* method returns a nested dataset of datasets (i.e. each window is a dataset containing a tensor)."
      ],
      "metadata": {
        "id": "0tlBHrkh3a_j"
      }
    },
    {
      "cell_type": "code",
      "source": [
        "print(windows, '\\n')"
      ],
      "metadata": {
        "id": "aUlSKqMIv4DE",
        "colab": {
          "base_uri": "https://localhost:8080/"
        },
        "outputId": "e4515575-1a7b-4221-adf9-fd10c6f14ced"
      },
      "execution_count": 20,
      "outputs": [
        {
          "output_type": "stream",
          "name": "stdout",
          "text": [
            "tensor([[27, 21,  1,  ..., 12,  1, 12],\n",
            "        [21,  1,  8,  ...,  1, 12,  2],\n",
            "        [ 1,  8, 13,  ..., 12,  2,  7],\n",
            "        ...,\n",
            "        [ 1,  9,  2,  ..., 17,  6, 25],\n",
            "        [ 9,  2,  8,  ...,  6, 25,  2],\n",
            "        [ 2,  8, 13,  ..., 25,  2, 21]]) \n",
            "\n"
          ]
        }
      ]
    },
    {
      "cell_type": "markdown",
      "source": [
        "We now have a single dataset of tensors, where each tensor is `input_timesteps+1` long and shifted by 1."
      ],
      "metadata": {
        "id": "-VEWbChD3xRT"
      }
    },
    {
      "cell_type": "markdown",
      "source": [
        "We can now separate each example into an input sequence(x) and a corresponding label/target sequence(y).<br><br>\n",
        "\n",
        "**Teacher Forcing** where:<br>\n",
        "1. At each timestep during training, the output is compared to a label.\n",
        "2. At the next timestep, rather than feeding the model the previous output, we feed it the next character of the input sequence (i.e. what the model should've outputted).\n",
        "<br><br>\n",
        "\n",
        "This is why each sequence is of size *input_timesteps + 1*. Each sequence is now going to be separated into TWO sequences. The first sequence will be the training input and will be of length *input_timesteps* (i.e. everything but the LAST character). The second sequence will be the label/target and will consist of all the sequence elements shifted by 1 (i.e. everything but the FIRST character).<br><br>\n",
        "\n",
        "So if a sequence is \"she swam in the lake\", then:\n",
        "- The input will be \"she swam in the lak\" (drop the last character)\n",
        "- The target/label will be \"he swam in the lake\" (drop the first character)"
      ],
      "metadata": {
        "id": "feeAcKdY7fU1"
      }
    },
    {
      "cell_type": "code",
      "source": [
        "class TextDataset(Dataset):\n",
        "    def __init__(self, windows):\n",
        "        self.windows = windows\n",
        "\n",
        "    def __len__(self):\n",
        "        return len(self.windows)\n",
        "\n",
        "    def __getitem__(self, idx):\n",
        "        window = self.windows[idx]\n",
        "        return window[:-1], window[1:]"
      ],
      "metadata": {
        "id": "FocX0fA8LQyo"
      },
      "execution_count": 21,
      "outputs": []
    },
    {
      "cell_type": "code",
      "source": [
        "# Create the dataset\n",
        "text_dataset = TextDataset(windows)"
      ],
      "metadata": {
        "id": "oNrul6YrLSXd"
      },
      "execution_count": 22,
      "outputs": []
    },
    {
      "cell_type": "code",
      "source": [
        "# Create the DataLoader\n",
        "batch_size = 32\n",
        "train_loader = DataLoader(text_dataset, batch_size=batch_size, shuffle=True)"
      ],
      "metadata": {
        "id": "wnAXnbURLUuV"
      },
      "execution_count": 23,
      "outputs": []
    },
    {
      "cell_type": "code",
      "source": [
        "# Check the dataset\n",
        "for inputs, targets in train_loader:\n",
        "    print(inputs.shape, targets.shape)\n",
        "    break"
      ],
      "metadata": {
        "colab": {
          "base_uri": "https://localhost:8080/"
        },
        "id": "Lk43rEfbLZs6",
        "outputId": "31d14661-79bc-4b17-9ea3-0eb66c8c6de3"
      },
      "execution_count": 24,
      "outputs": [
        {
          "output_type": "stream",
          "name": "stdout",
          "text": [
            "torch.Size([32, 100]) torch.Size([32, 100])\n"
          ]
        }
      ]
    },
    {
      "cell_type": "markdown",
      "source": [
        "Each batch now consists of a set of input sequences and a corresponding set of label/target sequences, with the labels/targets shifted by 1."
      ],
      "metadata": {
        "id": "QV0FZN41-ASJ"
      }
    },
    {
      "cell_type": "code",
      "source": [
        "for inputs, targets in train_loader:\n",
        "    print(inputs)\n",
        "    print(targets)\n",
        "    break"
      ],
      "metadata": {
        "id": "A7iErZRc7sTE",
        "colab": {
          "base_uri": "https://localhost:8080/"
        },
        "outputId": "133f6c8d-295e-4f02-b3e0-66e6f3d04bfa"
      },
      "execution_count": 25,
      "outputs": [
        {
          "output_type": "stream",
          "name": "stdout",
          "text": [
            "tensor([[ 6, 13,  9,  ...,  8,  3,  9],\n",
            "        [19,  2,  5,  ..., 14, 30, 35],\n",
            "        [ 5,  3,  2,  ...,  3,  2,  1],\n",
            "        ...,\n",
            "        [ 1,  4,  3,  ...,  2,  8,  1],\n",
            "        [ 7,  5,  4,  ..., 25,  4, 15],\n",
            "        [27, 29, 21,  ..., 12,  4,  5]])\n",
            "tensor([[13,  9,  8,  ...,  3,  9,  4],\n",
            "        [ 2,  5,  2,  ..., 30, 35, 21],\n",
            "        [ 3,  2,  9,  ...,  2,  1, 19],\n",
            "        ...,\n",
            "        [ 4,  3, 14,  ...,  8,  1,  6],\n",
            "        [ 5,  4,  3,  ...,  4, 15,  3],\n",
            "        [29, 21,  1,  ...,  4,  5, 19]])\n"
          ]
        }
      ]
    },
    {
      "cell_type": "markdown",
      "source": [
        "The last step before we can build our model is to one-hot encode the **inputs**. We're doing this because:\n",
        "1. We're not using embeddings for the input. We can, but since this is a character model with just a few dozen possible choices, we can get away with one-hot encoding. There's also no reason to think a particular letter should be closer to another in vector space as we would want in a word-level model.\n",
        "\n",
        "2. Since we're not using embeddings and our input is categorical, we need to one-hot encode.\n",
        "\n",
        "Note that despite our labels ALSO being categorical, we are NOT one-hot encoding them this time. This is because we'll be using a loss function that can help us skip that step (more below)."
      ],
      "metadata": {
        "id": "2DgNpgicAMbr"
      }
    },
    {
      "cell_type": "code",
      "source": [
        "# Set device\n",
        "device = torch.device(\"cuda\" if torch.cuda.is_available() else \"cpu\")"
      ],
      "metadata": {
        "id": "lyKyIfNgPzUI"
      },
      "execution_count": 26,
      "outputs": []
    },
    {
      "cell_type": "code",
      "source": [
        "class CharLSTMModel(nn.Module):\n",
        "    def __init__(self, num_tokens, hidden_dim):\n",
        "        super(CharLSTMModel, self).__init__()\n",
        "        self.lstm1 = nn.LSTM(num_tokens, hidden_dim, batch_first=True, dropout=0.2)\n",
        "        self.lstm2 = nn.LSTM(hidden_dim, hidden_dim, batch_first=True, dropout=0.2)\n",
        "        self.fc = nn.Linear(hidden_dim, num_tokens)\n",
        "        self.softmax = nn.LogSoftmax(dim=2)  # Use LogSoftmax for stability with NLLLoss\n",
        "\n",
        "    def forward(self, x):\n",
        "        x, _ = self.lstm1(x)\n",
        "        x, _ = self.lstm2(x)\n",
        "        x = self.fc(x)\n",
        "        x = self.softmax(x)\n",
        "        return x\n",
        "\n",
        "num_tokens = len(tokenizer.word_index) + 1\n",
        "hidden_dim = 128\n",
        "\n",
        "# Initialize model\n",
        "model = CharLSTMModel(num_tokens, hidden_dim).to(device)"
      ],
      "metadata": {
        "colab": {
          "base_uri": "https://localhost:8080/"
        },
        "id": "rMfHo4q7Mocu",
        "outputId": "b8abcefc-1913-4c97-af44-58b108457f1c"
      },
      "execution_count": 27,
      "outputs": [
        {
          "output_type": "stream",
          "name": "stderr",
          "text": [
            "/usr/local/lib/python3.10/dist-packages/torch/nn/modules/rnn.py:83: UserWarning: dropout option adds dropout after all but last recurrent layer, so non-zero dropout expects num_layers greater than 1, but got dropout=0.2 and num_layers=1\n",
            "  warnings.warn(\"dropout option adds dropout after all but last \"\n"
          ]
        }
      ]
    },
    {
      "cell_type": "code",
      "source": [
        "model"
      ],
      "metadata": {
        "colab": {
          "base_uri": "https://localhost:8080/"
        },
        "id": "NRLEVmz4P3MS",
        "outputId": "ae940098-d182-4a3b-98e4-a05901680552"
      },
      "execution_count": 28,
      "outputs": [
        {
          "output_type": "execute_result",
          "data": {
            "text/plain": [
              "CharLSTMModel(\n",
              "  (lstm1): LSTM(57, 128, batch_first=True, dropout=0.2)\n",
              "  (lstm2): LSTM(128, 128, batch_first=True, dropout=0.2)\n",
              "  (fc): Linear(in_features=128, out_features=57, bias=True)\n",
              "  (softmax): LogSoftmax(dim=2)\n",
              ")"
            ]
          },
          "metadata": {},
          "execution_count": 28
        }
      ]
    },
    {
      "cell_type": "code",
      "source": [
        "# Initialize criterion and optimizer\n",
        "criterion = nn.NLLLoss()\n",
        "optimizer = optim.Adam(model.parameters())"
      ],
      "metadata": {
        "id": "flWTITrrP53y"
      },
      "execution_count": 29,
      "outputs": []
    },
    {
      "cell_type": "code",
      "source": [
        "# Training loop\n",
        "num_epochs = 50\n",
        "\n",
        "for epoch in range(num_epochs):\n",
        "    model.train()\n",
        "    train_loss = 0\n",
        "    train_loader_tqdm = tqdm(train_loader, desc=f'Epoch {epoch+1}/{num_epochs} Training')\n",
        "    for inputs, targets in train_loader_tqdm:\n",
        "        inputs, targets = inputs.to(device), targets.to(device)\n",
        "\n",
        "        # One-hot encode inputs\n",
        "        inputs_one_hot = nn.functional.one_hot(inputs, num_classes=num_tokens).float()\n",
        "\n",
        "        optimizer.zero_grad()\n",
        "        outputs = model(inputs_one_hot)\n",
        "        outputs = outputs.view(-1, num_tokens)  # Flatten for loss computation\n",
        "        targets = targets.view(-1)  # Flatten for loss computation\n",
        "        loss = criterion(outputs, targets)\n",
        "        loss.backward()\n",
        "        optimizer.step()\n",
        "        train_loss += loss.item() * inputs.size(0)\n",
        "        train_loader_tqdm.set_postfix(loss=train_loss / len(train_loader.dataset))\n",
        "\n",
        "    train_loss /= len(train_loader.dataset)\n",
        "    print(f'Epoch {epoch+1}/{num_epochs}, Training Loss: {train_loss:.4f}\\n')"
      ],
      "metadata": {
        "colab": {
          "base_uri": "https://localhost:8080/"
        },
        "id": "XAcxtjUaQLXk",
        "outputId": "ef7e4ac6-8365-4379-f260-88007235768f"
      },
      "execution_count": 30,
      "outputs": [
        {
          "output_type": "stream",
          "name": "stderr",
          "text": [
            "Epoch 1/50 Training: 100%|██████████| 1905/1905 [00:14<00:00, 127.43it/s, loss=2.2]\n"
          ]
        },
        {
          "output_type": "stream",
          "name": "stdout",
          "text": [
            "Epoch 1/50, Training Loss: 2.2037\n",
            "\n"
          ]
        },
        {
          "output_type": "stream",
          "name": "stderr",
          "text": [
            "Epoch 2/50 Training: 100%|██████████| 1905/1905 [00:14<00:00, 135.87it/s, loss=1.63]\n"
          ]
        },
        {
          "output_type": "stream",
          "name": "stdout",
          "text": [
            "Epoch 2/50, Training Loss: 1.6274\n",
            "\n"
          ]
        },
        {
          "output_type": "stream",
          "name": "stderr",
          "text": [
            "Epoch 3/50 Training: 100%|██████████| 1905/1905 [00:14<00:00, 127.62it/s, loss=1.35]\n"
          ]
        },
        {
          "output_type": "stream",
          "name": "stdout",
          "text": [
            "Epoch 3/50, Training Loss: 1.3472\n",
            "\n"
          ]
        },
        {
          "output_type": "stream",
          "name": "stderr",
          "text": [
            "Epoch 4/50 Training: 100%|██████████| 1905/1905 [00:13<00:00, 137.35it/s, loss=1.1]\n"
          ]
        },
        {
          "output_type": "stream",
          "name": "stdout",
          "text": [
            "Epoch 4/50, Training Loss: 1.1042\n",
            "\n"
          ]
        },
        {
          "output_type": "stream",
          "name": "stderr",
          "text": [
            "Epoch 5/50 Training: 100%|██████████| 1905/1905 [00:13<00:00, 137.21it/s, loss=0.862]\n"
          ]
        },
        {
          "output_type": "stream",
          "name": "stdout",
          "text": [
            "Epoch 5/50, Training Loss: 0.8621\n",
            "\n"
          ]
        },
        {
          "output_type": "stream",
          "name": "stderr",
          "text": [
            "Epoch 6/50 Training: 100%|██████████| 1905/1905 [00:13<00:00, 137.16it/s, loss=0.645]\n"
          ]
        },
        {
          "output_type": "stream",
          "name": "stdout",
          "text": [
            "Epoch 6/50, Training Loss: 0.6446\n",
            "\n"
          ]
        },
        {
          "output_type": "stream",
          "name": "stderr",
          "text": [
            "Epoch 7/50 Training: 100%|██████████| 1905/1905 [00:13<00:00, 137.57it/s, loss=0.482]\n"
          ]
        },
        {
          "output_type": "stream",
          "name": "stdout",
          "text": [
            "Epoch 7/50, Training Loss: 0.4821\n",
            "\n"
          ]
        },
        {
          "output_type": "stream",
          "name": "stderr",
          "text": [
            "Epoch 8/50 Training: 100%|██████████| 1905/1905 [00:13<00:00, 138.11it/s, loss=0.375]\n"
          ]
        },
        {
          "output_type": "stream",
          "name": "stdout",
          "text": [
            "Epoch 8/50, Training Loss: 0.3751\n",
            "\n"
          ]
        },
        {
          "output_type": "stream",
          "name": "stderr",
          "text": [
            "Epoch 9/50 Training: 100%|██████████| 1905/1905 [00:13<00:00, 142.20it/s, loss=0.309]\n"
          ]
        },
        {
          "output_type": "stream",
          "name": "stdout",
          "text": [
            "Epoch 9/50, Training Loss: 0.3088\n",
            "\n"
          ]
        },
        {
          "output_type": "stream",
          "name": "stderr",
          "text": [
            "Epoch 10/50 Training: 100%|██████████| 1905/1905 [00:13<00:00, 142.05it/s, loss=0.269]\n"
          ]
        },
        {
          "output_type": "stream",
          "name": "stdout",
          "text": [
            "Epoch 10/50, Training Loss: 0.2689\n",
            "\n"
          ]
        },
        {
          "output_type": "stream",
          "name": "stderr",
          "text": [
            "Epoch 11/50 Training: 100%|██████████| 1905/1905 [00:13<00:00, 139.39it/s, loss=0.244]\n"
          ]
        },
        {
          "output_type": "stream",
          "name": "stdout",
          "text": [
            "Epoch 11/50, Training Loss: 0.2438\n",
            "\n"
          ]
        },
        {
          "output_type": "stream",
          "name": "stderr",
          "text": [
            "Epoch 12/50 Training: 100%|██████████| 1905/1905 [00:13<00:00, 138.47it/s, loss=0.227]\n"
          ]
        },
        {
          "output_type": "stream",
          "name": "stdout",
          "text": [
            "Epoch 12/50, Training Loss: 0.2268\n",
            "\n"
          ]
        },
        {
          "output_type": "stream",
          "name": "stderr",
          "text": [
            "Epoch 13/50 Training: 100%|██████████| 1905/1905 [00:13<00:00, 137.31it/s, loss=0.215]\n"
          ]
        },
        {
          "output_type": "stream",
          "name": "stdout",
          "text": [
            "Epoch 13/50, Training Loss: 0.2148\n",
            "\n"
          ]
        },
        {
          "output_type": "stream",
          "name": "stderr",
          "text": [
            "Epoch 14/50 Training: 100%|██████████| 1905/1905 [00:13<00:00, 138.70it/s, loss=0.205]\n"
          ]
        },
        {
          "output_type": "stream",
          "name": "stdout",
          "text": [
            "Epoch 14/50, Training Loss: 0.2050\n",
            "\n"
          ]
        },
        {
          "output_type": "stream",
          "name": "stderr",
          "text": [
            "Epoch 15/50 Training: 100%|██████████| 1905/1905 [00:13<00:00, 138.91it/s, loss=0.198]\n"
          ]
        },
        {
          "output_type": "stream",
          "name": "stdout",
          "text": [
            "Epoch 15/50, Training Loss: 0.1976\n",
            "\n"
          ]
        },
        {
          "output_type": "stream",
          "name": "stderr",
          "text": [
            "Epoch 16/50 Training: 100%|██████████| 1905/1905 [00:13<00:00, 138.87it/s, loss=0.191]\n"
          ]
        },
        {
          "output_type": "stream",
          "name": "stdout",
          "text": [
            "Epoch 16/50, Training Loss: 0.1914\n",
            "\n"
          ]
        },
        {
          "output_type": "stream",
          "name": "stderr",
          "text": [
            "Epoch 17/50 Training: 100%|██████████| 1905/1905 [00:13<00:00, 136.69it/s, loss=0.186]\n"
          ]
        },
        {
          "output_type": "stream",
          "name": "stdout",
          "text": [
            "Epoch 17/50, Training Loss: 0.1859\n",
            "\n"
          ]
        },
        {
          "output_type": "stream",
          "name": "stderr",
          "text": [
            "Epoch 18/50 Training: 100%|██████████| 1905/1905 [00:13<00:00, 141.36it/s, loss=0.181]\n"
          ]
        },
        {
          "output_type": "stream",
          "name": "stdout",
          "text": [
            "Epoch 18/50, Training Loss: 0.1814\n",
            "\n"
          ]
        },
        {
          "output_type": "stream",
          "name": "stderr",
          "text": [
            "Epoch 19/50 Training: 100%|██████████| 1905/1905 [00:13<00:00, 139.86it/s, loss=0.177]\n"
          ]
        },
        {
          "output_type": "stream",
          "name": "stdout",
          "text": [
            "Epoch 19/50, Training Loss: 0.1774\n",
            "\n"
          ]
        },
        {
          "output_type": "stream",
          "name": "stderr",
          "text": [
            "Epoch 20/50 Training: 100%|██████████| 1905/1905 [00:13<00:00, 138.90it/s, loss=0.174]\n"
          ]
        },
        {
          "output_type": "stream",
          "name": "stdout",
          "text": [
            "Epoch 20/50, Training Loss: 0.1737\n",
            "\n"
          ]
        },
        {
          "output_type": "stream",
          "name": "stderr",
          "text": [
            "Epoch 21/50 Training: 100%|██████████| 1905/1905 [00:13<00:00, 141.16it/s, loss=0.171]\n"
          ]
        },
        {
          "output_type": "stream",
          "name": "stdout",
          "text": [
            "Epoch 21/50, Training Loss: 0.1705\n",
            "\n"
          ]
        },
        {
          "output_type": "stream",
          "name": "stderr",
          "text": [
            "Epoch 22/50 Training: 100%|██████████| 1905/1905 [00:13<00:00, 137.56it/s, loss=0.167]\n"
          ]
        },
        {
          "output_type": "stream",
          "name": "stdout",
          "text": [
            "Epoch 22/50, Training Loss: 0.1674\n",
            "\n"
          ]
        },
        {
          "output_type": "stream",
          "name": "stderr",
          "text": [
            "Epoch 23/50 Training: 100%|██████████| 1905/1905 [00:14<00:00, 135.30it/s, loss=0.165]\n"
          ]
        },
        {
          "output_type": "stream",
          "name": "stdout",
          "text": [
            "Epoch 23/50, Training Loss: 0.1652\n",
            "\n"
          ]
        },
        {
          "output_type": "stream",
          "name": "stderr",
          "text": [
            "Epoch 24/50 Training: 100%|██████████| 1905/1905 [00:13<00:00, 137.26it/s, loss=0.163]\n"
          ]
        },
        {
          "output_type": "stream",
          "name": "stdout",
          "text": [
            "Epoch 24/50, Training Loss: 0.1626\n",
            "\n"
          ]
        },
        {
          "output_type": "stream",
          "name": "stderr",
          "text": [
            "Epoch 25/50 Training: 100%|██████████| 1905/1905 [00:13<00:00, 138.52it/s, loss=0.161]\n"
          ]
        },
        {
          "output_type": "stream",
          "name": "stdout",
          "text": [
            "Epoch 25/50, Training Loss: 0.1606\n",
            "\n"
          ]
        },
        {
          "output_type": "stream",
          "name": "stderr",
          "text": [
            "Epoch 26/50 Training: 100%|██████████| 1905/1905 [00:13<00:00, 136.72it/s, loss=0.158]\n"
          ]
        },
        {
          "output_type": "stream",
          "name": "stdout",
          "text": [
            "Epoch 26/50, Training Loss: 0.1583\n",
            "\n"
          ]
        },
        {
          "output_type": "stream",
          "name": "stderr",
          "text": [
            "Epoch 27/50 Training: 100%|██████████| 1905/1905 [00:13<00:00, 138.33it/s, loss=0.157]\n"
          ]
        },
        {
          "output_type": "stream",
          "name": "stdout",
          "text": [
            "Epoch 27/50, Training Loss: 0.1567\n",
            "\n"
          ]
        },
        {
          "output_type": "stream",
          "name": "stderr",
          "text": [
            "Epoch 28/50 Training: 100%|██████████| 1905/1905 [00:13<00:00, 140.41it/s, loss=0.155]\n"
          ]
        },
        {
          "output_type": "stream",
          "name": "stdout",
          "text": [
            "Epoch 28/50, Training Loss: 0.1547\n",
            "\n"
          ]
        },
        {
          "output_type": "stream",
          "name": "stderr",
          "text": [
            "Epoch 29/50 Training: 100%|██████████| 1905/1905 [00:13<00:00, 140.12it/s, loss=0.153]\n"
          ]
        },
        {
          "output_type": "stream",
          "name": "stdout",
          "text": [
            "Epoch 29/50, Training Loss: 0.1533\n",
            "\n"
          ]
        },
        {
          "output_type": "stream",
          "name": "stderr",
          "text": [
            "Epoch 30/50 Training: 100%|██████████| 1905/1905 [00:13<00:00, 141.12it/s, loss=0.152]\n"
          ]
        },
        {
          "output_type": "stream",
          "name": "stdout",
          "text": [
            "Epoch 30/50, Training Loss: 0.1516\n",
            "\n"
          ]
        },
        {
          "output_type": "stream",
          "name": "stderr",
          "text": [
            "Epoch 31/50 Training: 100%|██████████| 1905/1905 [00:14<00:00, 135.68it/s, loss=0.15]\n"
          ]
        },
        {
          "output_type": "stream",
          "name": "stdout",
          "text": [
            "Epoch 31/50, Training Loss: 0.1504\n",
            "\n"
          ]
        },
        {
          "output_type": "stream",
          "name": "stderr",
          "text": [
            "Epoch 32/50 Training: 100%|██████████| 1905/1905 [00:13<00:00, 138.34it/s, loss=0.149]\n"
          ]
        },
        {
          "output_type": "stream",
          "name": "stdout",
          "text": [
            "Epoch 32/50, Training Loss: 0.1490\n",
            "\n"
          ]
        },
        {
          "output_type": "stream",
          "name": "stderr",
          "text": [
            "Epoch 33/50 Training: 100%|██████████| 1905/1905 [00:13<00:00, 137.84it/s, loss=0.148]\n"
          ]
        },
        {
          "output_type": "stream",
          "name": "stdout",
          "text": [
            "Epoch 33/50, Training Loss: 0.1476\n",
            "\n"
          ]
        },
        {
          "output_type": "stream",
          "name": "stderr",
          "text": [
            "Epoch 34/50 Training: 100%|██████████| 1905/1905 [00:13<00:00, 136.49it/s, loss=0.146]\n"
          ]
        },
        {
          "output_type": "stream",
          "name": "stdout",
          "text": [
            "Epoch 34/50, Training Loss: 0.1464\n",
            "\n"
          ]
        },
        {
          "output_type": "stream",
          "name": "stderr",
          "text": [
            "Epoch 35/50 Training: 100%|██████████| 1905/1905 [00:13<00:00, 138.21it/s, loss=0.145]\n"
          ]
        },
        {
          "output_type": "stream",
          "name": "stdout",
          "text": [
            "Epoch 35/50, Training Loss: 0.1455\n",
            "\n"
          ]
        },
        {
          "output_type": "stream",
          "name": "stderr",
          "text": [
            "Epoch 36/50 Training: 100%|██████████| 1905/1905 [00:13<00:00, 136.27it/s, loss=0.144]\n"
          ]
        },
        {
          "output_type": "stream",
          "name": "stdout",
          "text": [
            "Epoch 36/50, Training Loss: 0.1445\n",
            "\n"
          ]
        },
        {
          "output_type": "stream",
          "name": "stderr",
          "text": [
            "Epoch 37/50 Training: 100%|██████████| 1905/1905 [00:13<00:00, 138.91it/s, loss=0.143]\n"
          ]
        },
        {
          "output_type": "stream",
          "name": "stdout",
          "text": [
            "Epoch 37/50, Training Loss: 0.1433\n",
            "\n"
          ]
        },
        {
          "output_type": "stream",
          "name": "stderr",
          "text": [
            "Epoch 38/50 Training: 100%|██████████| 1905/1905 [00:13<00:00, 140.45it/s, loss=0.142]\n"
          ]
        },
        {
          "output_type": "stream",
          "name": "stdout",
          "text": [
            "Epoch 38/50, Training Loss: 0.1422\n",
            "\n"
          ]
        },
        {
          "output_type": "stream",
          "name": "stderr",
          "text": [
            "Epoch 39/50 Training: 100%|██████████| 1905/1905 [00:13<00:00, 141.49it/s, loss=0.142]\n"
          ]
        },
        {
          "output_type": "stream",
          "name": "stdout",
          "text": [
            "Epoch 39/50, Training Loss: 0.1415\n",
            "\n"
          ]
        },
        {
          "output_type": "stream",
          "name": "stderr",
          "text": [
            "Epoch 40/50 Training: 100%|██████████| 1905/1905 [00:13<00:00, 137.80it/s, loss=0.141]\n"
          ]
        },
        {
          "output_type": "stream",
          "name": "stdout",
          "text": [
            "Epoch 40/50, Training Loss: 0.1405\n",
            "\n"
          ]
        },
        {
          "output_type": "stream",
          "name": "stderr",
          "text": [
            "Epoch 41/50 Training: 100%|██████████| 1905/1905 [00:13<00:00, 136.95it/s, loss=0.14]\n"
          ]
        },
        {
          "output_type": "stream",
          "name": "stdout",
          "text": [
            "Epoch 41/50, Training Loss: 0.1397\n",
            "\n"
          ]
        },
        {
          "output_type": "stream",
          "name": "stderr",
          "text": [
            "Epoch 42/50 Training: 100%|██████████| 1905/1905 [00:13<00:00, 136.78it/s, loss=0.139]\n"
          ]
        },
        {
          "output_type": "stream",
          "name": "stdout",
          "text": [
            "Epoch 42/50, Training Loss: 0.1389\n",
            "\n"
          ]
        },
        {
          "output_type": "stream",
          "name": "stderr",
          "text": [
            "Epoch 43/50 Training: 100%|██████████| 1905/1905 [00:14<00:00, 134.89it/s, loss=0.138]\n"
          ]
        },
        {
          "output_type": "stream",
          "name": "stdout",
          "text": [
            "Epoch 43/50, Training Loss: 0.1381\n",
            "\n"
          ]
        },
        {
          "output_type": "stream",
          "name": "stderr",
          "text": [
            "Epoch 44/50 Training: 100%|██████████| 1905/1905 [00:13<00:00, 136.38it/s, loss=0.137]\n"
          ]
        },
        {
          "output_type": "stream",
          "name": "stdout",
          "text": [
            "Epoch 44/50, Training Loss: 0.1374\n",
            "\n"
          ]
        },
        {
          "output_type": "stream",
          "name": "stderr",
          "text": [
            "Epoch 45/50 Training: 100%|██████████| 1905/1905 [00:13<00:00, 137.78it/s, loss=0.137]\n"
          ]
        },
        {
          "output_type": "stream",
          "name": "stdout",
          "text": [
            "Epoch 45/50, Training Loss: 0.1366\n",
            "\n"
          ]
        },
        {
          "output_type": "stream",
          "name": "stderr",
          "text": [
            "Epoch 46/50 Training: 100%|██████████| 1905/1905 [00:13<00:00, 137.99it/s, loss=0.136]\n"
          ]
        },
        {
          "output_type": "stream",
          "name": "stdout",
          "text": [
            "Epoch 46/50, Training Loss: 0.1360\n",
            "\n"
          ]
        },
        {
          "output_type": "stream",
          "name": "stderr",
          "text": [
            "Epoch 47/50 Training: 100%|██████████| 1905/1905 [00:13<00:00, 140.06it/s, loss=0.135]\n"
          ]
        },
        {
          "output_type": "stream",
          "name": "stdout",
          "text": [
            "Epoch 47/50, Training Loss: 0.1353\n",
            "\n"
          ]
        },
        {
          "output_type": "stream",
          "name": "stderr",
          "text": [
            "Epoch 48/50 Training: 100%|██████████| 1905/1905 [00:14<00:00, 135.46it/s, loss=0.135]\n"
          ]
        },
        {
          "output_type": "stream",
          "name": "stdout",
          "text": [
            "Epoch 48/50, Training Loss: 0.1347\n",
            "\n"
          ]
        },
        {
          "output_type": "stream",
          "name": "stderr",
          "text": [
            "Epoch 49/50 Training: 100%|██████████| 1905/1905 [00:14<00:00, 135.85it/s, loss=0.134]\n"
          ]
        },
        {
          "output_type": "stream",
          "name": "stdout",
          "text": [
            "Epoch 49/50, Training Loss: 0.1341\n",
            "\n"
          ]
        },
        {
          "output_type": "stream",
          "name": "stderr",
          "text": [
            "Epoch 50/50 Training: 100%|██████████| 1905/1905 [00:14<00:00, 135.05it/s, loss=0.134]"
          ]
        },
        {
          "output_type": "stream",
          "name": "stdout",
          "text": [
            "Epoch 50/50, Training Loss: 0.1336\n",
            "\n"
          ]
        },
        {
          "output_type": "stream",
          "name": "stderr",
          "text": [
            "\n"
          ]
        }
      ]
    },
    {
      "cell_type": "code",
      "source": [
        "# Save the model\n",
        "torch.save(model.state_dict(), '/content/drive/MyDrive/RNN model/language_modelling_lstm.pth')"
      ],
      "metadata": {
        "id": "rncmIneRy487"
      },
      "execution_count": 31,
      "outputs": []
    },
    {
      "cell_type": "markdown",
      "source": [
        "Now that we have a trained model, let's generate some text.<br><br>\n",
        "The function below takes some seed text and uses that to generate a certain number of characters. For each character, it uses the generated text so far as the input. It's not the most efficient function but it'll work here.<br><br>\n",
        "There's also a *temperature* parameter. The next character is picked from a probability distribution. By dividing the log of this distribution by *temperature*, we can influence the randomness of the output.<br><br>\n",
        "When the temperature is low (< 1), the probability distribution sharpens and the model will be more strict in recreating the original text. As we raise the temperature, the distribution flattens and there's a higher chance the model picks something unexpected, resulting in greater surprise in the output. In practice, a high enough temperature will result in nonsense."
      ],
      "metadata": {
        "id": "6xaiAYc1RLrd"
      }
    },
    {
      "cell_type": "code",
      "source": [
        "def generate_text(model, tokenizer, seed_text, num_chars=200, temperature=1.0):\n",
        "    model.eval()  # Set the model to evaluation mode\n",
        "    text = seed_text\n",
        "\n",
        "    for _ in range(num_chars):\n",
        "        # Take the last *input_timesteps* number of characters in the text so far\n",
        "        input_text = text[-input_timesteps:]\n",
        "        input_seq = tokenizer.texts_to_sequences([input_text])\n",
        "        input_tensor = torch.tensor(input_seq, dtype=torch.long).to(device)\n",
        "\n",
        "        # One-hot encode the input tensor\n",
        "        input_tensor = torch.nn.functional.one_hot(input_tensor, num_classes=num_tokens).float().to(device)\n",
        "\n",
        "        # Create probability distribution for next character adjusted by temperature\n",
        "        with torch.no_grad():\n",
        "            preds = model(input_tensor)  # Forward pass\n",
        "            preds = preds[0, -1, :]  # Get predictions for the last timestep\n",
        "            preds = preds / temperature  # Apply temperature scaling\n",
        "            preds = torch.nn.functional.softmax(preds, dim=-1)  # Apply softmax to get probabilities\n",
        "\n",
        "        # Sample next character\n",
        "        next_char_idx = torch.multinomial(preds, 1).item()\n",
        "\n",
        "        # Convert index to character using tokenizer\n",
        "        index_word = tokenizer.index_word\n",
        "        next_char = index_word.get(next_char_idx, '')  # Use default empty string if index is not found\n",
        "\n",
        "        # Add next character to running text\n",
        "        text += next_char\n",
        "\n",
        "    return text"
      ],
      "metadata": {
        "id": "jiwXXCn7JKea"
      },
      "execution_count": 32,
      "outputs": []
    },
    {
      "cell_type": "code",
      "source": [
        "%%time\n",
        "print(generate_text(model, tokenizer, \"Banana peels on the battlefield can\", num_chars=300, temperature=0.2))"
      ],
      "metadata": {
        "id": "hywFzqgFGb43",
        "colab": {
          "base_uri": "https://localhost:8080/"
        },
        "outputId": "44ccdc42-a2e0-4f0c-db37-57135c6865a0"
      },
      "execution_count": 33,
      "outputs": [
        {
          "output_type": "stream",
          "name": "stdout",
          "text": [
            "Banana peels on the battlefield can melies, efteld in their flacks for over them foch revelless.\n",
            "\n",
            "3. the art of war, then, is governed by five constant factors, to be\n",
            "taken into account in one’s deliberations, when seeking to determine the\n",
            "military conditions, let them be made the basis of a comparison, in\n",
            "this wise:—\n",
            "\n",
            "13. (1) which \n",
            "CPU times: user 638 ms, sys: 50.1 ms, total: 688 ms\n",
            "Wall time: 1.16 s\n"
          ]
        }
      ]
    },
    {
      "cell_type": "code",
      "source": [
        "print(generate_text(model, tokenizer, \"It's time to release the Kraken when\", num_chars=300, temperature=0.5))"
      ],
      "metadata": {
        "id": "GMVFH66EMfXh",
        "colab": {
          "base_uri": "https://localhost:8080/"
        },
        "outputId": "4385d400-0956-44be-b8ea-d39dc03f84a2"
      },
      "execution_count": 34,
      "outputs": [
        {
          "output_type": "stream",
          "name": "stdout",
          "text": [
            "It's time to release the Kraken when on desiss of the enemy.\n",
            "\n",
            "11. if we wish to fight, the enemy can be forced to an engagement even\n",
            "though he be sheltered behind a high rampart and a deep ditch. all we\n",
            "need do is attack some other place that he will be obliged to relieve.\n",
            "\n",
            "12. if we do not wish to fight, we can prevent the enemy from\n"
          ]
        }
      ]
    },
    {
      "cell_type": "code",
      "source": [
        "print(generate_text(model, tokenizer, \"Crush your enemies, see them driven before you, and\", num_chars=300,\n",
        "                    temperature=1))"
      ],
      "metadata": {
        "id": "0LAiIE6IGb1H",
        "colab": {
          "base_uri": "https://localhost:8080/"
        },
        "outputId": "171f2c06-fd84-42ca-9871-5bd052df23e1"
      },
      "execution_count": 35,
      "outputs": [
        {
          "output_type": "stream",
          "name": "stdout",
          "text": [
            "Crush your enemies, see them driven before you, and spies_ man, the result things to the effect of excellence.\n",
            "\n",
            "9. neither is it the acme of excellence if you fight and conquer and\n",
            "the whole empire seight, but\n",
            "let your methods be regulated by the infinite variety of circumstances.\n",
            "\n",
            "29. military tactics more see for his iarsengly; your own men are no\n"
          ]
        }
      ]
    },
    {
      "cell_type": "code",
      "source": [
        "print(generate_text(model, tokenizer, \"What is best in life?\", num_chars=300, temperature=2))"
      ],
      "metadata": {
        "id": "oEALULBOZ75z",
        "colab": {
          "base_uri": "https://localhost:8080/"
        },
        "outputId": "6b09b193-fc1e-43df-fdd3-cf6c8b59d54e"
      },
      "execution_count": 36,
      "outputs": [
        {
          "output_type": "stream",
          "name": "stdout",
          "text": [
            "What is best in life?\n",
            "\n",
            "14. battl soldrally lashs; and the dire\n",
            "the _shuai-jan_, iverdle ard cities the common solity fle whom there are five principates\n",
            "red! in in\n",
            "an a\n",
            "crofffy with the moral lyhand oppants; simulated weakness posture them, will have to crefratifyellangr\n",
            "(or undis\n",
            "hid. \n",
            "31. buse simulated weakness to wi\n"
          ]
        }
      ]
    },
    {
      "cell_type": "code",
      "source": [],
      "metadata": {
        "id": "CN3EPUHhXYQL"
      },
      "execution_count": null,
      "outputs": []
    }
  ]
}